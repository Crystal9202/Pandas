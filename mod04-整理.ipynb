{
 "cells": [
  {
   "cell_type": "code",
   "execution_count": null,
   "id": "19273500",
   "metadata": {},
   "outputs": [],
   "source": [
    "#類別物件"
   ]
  },
  {
   "cell_type": "code",
   "execution_count": 9,
   "id": "cbcd7c7a",
   "metadata": {},
   "outputs": [
    {
     "data": {
      "text/plain": [
       "['low', 'high', 'medium', 'medium', 'high']\n",
       "Categories (3, object): ['high', 'low', 'medium']"
      ]
     },
     "execution_count": 9,
     "metadata": {},
     "output_type": "execute_result"
    }
   ],
   "source": [
    "import pandas as pd\n",
    "\n",
    "\n",
    "s=['low','high','medium','medium','high']\n",
    "t_cat=pd.Categorical(lmh_values)\n",
    "t_cat\n",
    "\n",
    "#看資料型別\n",
    "type(t_cat)   \n",
    "\n",
    "#看有哪些類別\n",
    "t_cat.categories\n",
    "\n",
    "#用編號來看\n",
    "t_cat.codes\n",
    "\n",
    "#排順序，參數帶入想要的順序\n",
    "t_cat=pd.Categorical(s,categories=['low','medium','high'])\n",
    "t_cat\n",
    "\n",
    "#排序小到大\n",
    "t_cat.sort_values()\n",
    "\n",
    "#比大小\n",
    "t_cat.as_ordered()"
   ]
  },
  {
   "cell_type": "markdown",
   "id": "42255910",
   "metadata": {},
   "source": [
    "---------------"
   ]
  },
  {
   "cell_type": "code",
   "execution_count": 14,
   "id": "1a9bc71d",
   "metadata": {},
   "outputs": [
    {
     "data": {
      "text/plain": [
       "0       low\n",
       "1      high\n",
       "2    medium\n",
       "3    medium\n",
       "4      high\n",
       "dtype: category\n",
       "Categories (3, object): ['high', 'low', 'medium']"
      ]
     },
     "execution_count": 14,
     "metadata": {},
     "output_type": "execute_result"
    }
   ],
   "source": [
    "#Series ，裡面是 類別物件\n",
    "\n",
    "t_ser=pd.Series(s,dtype='category')\n",
    "t_ser\n",
    "\n",
    "#看資料型別\n",
    "type(t_ser)\n",
    "\n",
    "#看有哪些類別\n",
    "t_ser.values\n",
    "\n",
    "#排順序， 換成類別順序的方式  ，順便比大小\n",
    "t_dtype=pd.CategoricalDtype(['low','medium','high'],ordered=True)\n",
    "t_ser =t_ser.astype(t_dtype)\n",
    "t_ser\n",
    "\n",
    "\n",
    "#排序小到大\n",
    "t_ser.sort_values()"
   ]
  }
 ],
 "metadata": {
  "kernelspec": {
   "display_name": "Python 3",
   "language": "python",
   "name": "python3"
  },
  "language_info": {
   "codemirror_mode": {
    "name": "ipython",
    "version": 3
   },
   "file_extension": ".py",
   "mimetype": "text/x-python",
   "name": "python",
   "nbconvert_exporter": "python",
   "pygments_lexer": "ipython3",
   "version": "3.9.5"
  }
 },
 "nbformat": 4,
 "nbformat_minor": 5
}

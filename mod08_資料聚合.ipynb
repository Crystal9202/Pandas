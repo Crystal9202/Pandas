{
 "cells": [
  {
   "cell_type": "markdown",
   "id": "19ca035b",
   "metadata": {},
   "source": [
    "#  <font color=red> Module_08_資料聚合</font>"
   ]
  },
  {
   "cell_type": "markdown",
   "id": "9131783a",
   "metadata": {},
   "source": [
    "## 拆開資料"
   ]
  },
  {
   "cell_type": "code",
   "execution_count": 1,
   "id": "e24b3ca6",
   "metadata": {},
   "outputs": [
    {
     "data": {
      "text/html": [
       "<div>\n",
       "<style scoped>\n",
       "    .dataframe tbody tr th:only-of-type {\n",
       "        vertical-align: middle;\n",
       "    }\n",
       "\n",
       "    .dataframe tbody tr th {\n",
       "        vertical-align: top;\n",
       "    }\n",
       "\n",
       "    .dataframe thead th {\n",
       "        text-align: right;\n",
       "    }\n",
       "</style>\n",
       "<table border=\"1\" class=\"dataframe\">\n",
       "  <thead>\n",
       "    <tr style=\"text-align: right;\">\n",
       "      <th></th>\n",
       "      <th>key1</th>\n",
       "      <th>key2</th>\n",
       "      <th>data1</th>\n",
       "      <th>data2</th>\n",
       "    </tr>\n",
       "  </thead>\n",
       "  <tbody>\n",
       "    <tr>\n",
       "      <th>0</th>\n",
       "      <td>a</td>\n",
       "      <td>one</td>\n",
       "      <td>0.299383</td>\n",
       "      <td>0.102803</td>\n",
       "    </tr>\n",
       "    <tr>\n",
       "      <th>1</th>\n",
       "      <td>a</td>\n",
       "      <td>two</td>\n",
       "      <td>1.097159</td>\n",
       "      <td>-0.203645</td>\n",
       "    </tr>\n",
       "    <tr>\n",
       "      <th>2</th>\n",
       "      <td>b</td>\n",
       "      <td>one</td>\n",
       "      <td>-1.769893</td>\n",
       "      <td>1.136841</td>\n",
       "    </tr>\n",
       "    <tr>\n",
       "      <th>3</th>\n",
       "      <td>b</td>\n",
       "      <td>two</td>\n",
       "      <td>-0.232214</td>\n",
       "      <td>1.267748</td>\n",
       "    </tr>\n",
       "    <tr>\n",
       "      <th>4</th>\n",
       "      <td>a</td>\n",
       "      <td>one</td>\n",
       "      <td>-0.449499</td>\n",
       "      <td>-0.982907</td>\n",
       "    </tr>\n",
       "  </tbody>\n",
       "</table>\n",
       "</div>"
      ],
      "text/plain": [
       "  key1 key2     data1     data2\n",
       "0    a  one  0.299383  0.102803\n",
       "1    a  two  1.097159 -0.203645\n",
       "2    b  one -1.769893  1.136841\n",
       "3    b  two -0.232214  1.267748\n",
       "4    a  one -0.449499 -0.982907"
      ]
     },
     "execution_count": 1,
     "metadata": {},
     "output_type": "execute_result"
    }
   ],
   "source": [
    "import pandas as pd\n",
    "import numpy as np\n",
    "\n",
    "df = pd.DataFrame({'key1' : ['a', 'a', 'b', 'b', 'a'],\n",
    "                   'key2' : ['one', 'two', 'one', 'two', 'one'],\n",
    "                   'data1' : np.random.randn(5),\n",
    "                   'data2' : np.random.randn(5)})\n",
    "df"
   ]
  },
  {
   "cell_type": "code",
   "execution_count": null,
   "id": "6989b795",
   "metadata": {},
   "outputs": [],
   "source": [
    "# 分組的 key 可以是序列\n",
    "# 對應關係要注意\n",
    "# 返回的是一個 GroupBy 的物件\n",
    "grouped = df['data1'].groupby(df['key1'])  \n",
    "grouped "
   ]
  },
  {
   "cell_type": "code",
   "execution_count": null,
   "id": "87b482f7",
   "metadata": {},
   "outputs": [],
   "source": [
    "# 一個序列\n",
    "# 分組的 key 會當索引標籤\n",
    "grouped.mean() "
   ]
  },
  {
   "cell_type": "markdown",
   "id": "051d6ddc",
   "metadata": {},
   "source": [
    "---"
   ]
  },
  {
   "cell_type": "code",
   "execution_count": null,
   "id": "48945f42",
   "metadata": {},
   "outputs": [],
   "source": [
    "means = df['data1'].groupby([df['key1'], df['key2']]).mean()\n",
    "means"
   ]
  },
  {
   "cell_type": "code",
   "execution_count": null,
   "id": "7d689844",
   "metadata": {},
   "outputs": [],
   "source": [
    "#另一種寫法\n",
    "df.groupby(['key1','key2'])['data1'].mean()"
   ]
  },
  {
   "cell_type": "code",
   "execution_count": null,
   "id": "acaacb24",
   "metadata": {
    "scrolled": true
   },
   "outputs": [],
   "source": [
    "means.unstack()"
   ]
  },
  {
   "cell_type": "markdown",
   "id": "54e6d60d",
   "metadata": {},
   "source": [
    "---"
   ]
  },
  {
   "cell_type": "code",
   "execution_count": null,
   "id": "ad358400",
   "metadata": {},
   "outputs": [],
   "source": [
    "df"
   ]
  },
  {
   "cell_type": "code",
   "execution_count": null,
   "id": "92441776",
   "metadata": {},
   "outputs": [],
   "source": [
    "# 分組的 key 也可以是長度相符的陣列\n",
    "# 分組的 key 會當索引標籤\n",
    "states = np.array(['Ohio', 'California', 'California', 'Ohio', 'Ohio'])\n",
    "years = np.array([2005, 2005, 2006, 2005, 2006])\n",
    "df['data1'].groupby([states, years]).mean()"
   ]
  },
  {
   "cell_type": "markdown",
   "id": "83b6bc89",
   "metadata": {},
   "source": [
    "---"
   ]
  },
  {
   "cell_type": "code",
   "execution_count": null,
   "id": "4835da72",
   "metadata": {},
   "outputs": [],
   "source": [
    "df"
   ]
  },
  {
   "cell_type": "code",
   "execution_count": null,
   "id": "5cf6caee",
   "metadata": {
    "scrolled": true
   },
   "outputs": [],
   "source": [
    "# 直接使用資料框\n",
    "# 分組的 key 也可以是欄位名稱，此時前面的資料框就要跟欄位有關\n",
    "# key2 的欄位因為不是數值型態，所以不會被包含在輸出結果中，但儘量不要這樣寫\n",
    "df.groupby('key1').mean() "
   ]
  },
  {
   "cell_type": "code",
   "execution_count": null,
   "id": "9f64f136",
   "metadata": {},
   "outputs": [],
   "source": [
    "# 這樣會是比較好的寫法\n",
    "# 先 df.groupby('key1') 得到 GroupBy 的物件\n",
    "# 再用 index 的方式表達要顯示那些欄位 df.groupby('key1')[['data1', 'data2']]\n",
    "# 最後套用聚合方法\n",
    "df.groupby('key1')[['data1', 'data2']].mean() "
   ]
  },
  {
   "cell_type": "markdown",
   "id": "80889795",
   "metadata": {},
   "source": [
    "---"
   ]
  },
  {
   "cell_type": "code",
   "execution_count": null,
   "id": "2fa2169b",
   "metadata": {},
   "outputs": [],
   "source": [
    "df"
   ]
  },
  {
   "cell_type": "code",
   "execution_count": null,
   "id": "a76a77ed",
   "metadata": {},
   "outputs": [],
   "source": [
    "df.groupby(['key1', 'key2']).mean()"
   ]
  },
  {
   "cell_type": "code",
   "execution_count": null,
   "id": "1bcd2ada",
   "metadata": {},
   "outputs": [],
   "source": [
    "# 返回序列\n",
    "# 資料列的個數，是不是遺失值都要算\n",
    "df.groupby(['key1', 'key2']).size() "
   ]
  },
  {
   "cell_type": "markdown",
   "id": "9c3e402d",
   "metadata": {},
   "source": [
    "---"
   ]
  },
  {
   "cell_type": "code",
   "execution_count": null,
   "id": "cbdc747a",
   "metadata": {},
   "outputs": [],
   "source": [
    "df"
   ]
  },
  {
   "cell_type": "code",
   "execution_count": null,
   "id": "44dca471",
   "metadata": {},
   "outputs": [],
   "source": [
    "df.groupby('key1') # GroupBy 物件"
   ]
  },
  {
   "cell_type": "code",
   "execution_count": null,
   "id": "7ab06170",
   "metadata": {},
   "outputs": [],
   "source": [
    "# name 就是分到的每個組\n",
    "# group 就是滿足這個組的所有資料 \n",
    "for name, group in df.groupby('key1'): # GroupBy 物件支援疊代，會產生 2-tuple 的序列 \n",
    "    print(name)\n",
    "    print(group)"
   ]
  },
  {
   "cell_type": "code",
   "execution_count": null,
   "id": "21c194e0",
   "metadata": {},
   "outputs": [],
   "source": [
    "df"
   ]
  },
  {
   "cell_type": "code",
   "execution_count": null,
   "id": "3d0aa545",
   "metadata": {
    "scrolled": true
   },
   "outputs": [],
   "source": [
    "for name, group in df.groupby(['key1', 'key2']):\n",
    "    print(name)\n",
    "    print(group)"
   ]
  },
  {
   "cell_type": "markdown",
   "id": "9a1296a0",
   "metadata": {},
   "source": [
    "---"
   ]
  },
  {
   "cell_type": "code",
   "execution_count": null,
   "id": "9a3f35ce",
   "metadata": {},
   "outputs": [],
   "source": [
    "# 放進函式 list() 看會變成如何\n",
    "# 裝成 (key, value) 的 tuple\n",
    "list(df.groupby('key1'))"
   ]
  },
  {
   "cell_type": "code",
   "execution_count": null,
   "id": "ed0dae56",
   "metadata": {},
   "outputs": [],
   "source": [
    "pieces = dict(list(df.groupby('key1')))\n",
    "pieces"
   ]
  },
  {
   "cell_type": "code",
   "execution_count": null,
   "id": "78483e59",
   "metadata": {},
   "outputs": [],
   "source": [
    "# 可以用 key 找 value\n",
    "pieces['b']"
   ]
  },
  {
   "cell_type": "markdown",
   "id": "2677613b",
   "metadata": {},
   "source": [
    "---"
   ]
  },
  {
   "cell_type": "code",
   "execution_count": null,
   "id": "eb48236d",
   "metadata": {},
   "outputs": [],
   "source": [
    "df"
   ]
  },
  {
   "cell_type": "code",
   "execution_count": null,
   "id": "752cb2ca",
   "metadata": {},
   "outputs": [],
   "source": [
    "df.dtypes"
   ]
  },
  {
   "cell_type": "code",
   "execution_count": null,
   "id": "c31534d2",
   "metadata": {},
   "outputs": [],
   "source": [
    "# 預設 axis = 0 對列操作，axis = 1 對行做操作\n",
    "grouped = df.groupby(df.dtypes, axis = 1)"
   ]
  },
  {
   "cell_type": "code",
   "execution_count": null,
   "id": "faa304a0",
   "metadata": {},
   "outputs": [],
   "source": [
    "for name, group in grouped:\n",
    "    print(name)\n",
    "    print(group)"
   ]
  },
  {
   "cell_type": "markdown",
   "id": "ff23524d",
   "metadata": {},
   "source": [
    "---"
   ]
  },
  {
   "cell_type": "code",
   "execution_count": null,
   "id": "585c3e89",
   "metadata": {},
   "outputs": [],
   "source": [
    "df"
   ]
  },
  {
   "cell_type": "code",
   "execution_count": null,
   "id": "49aa8dd3",
   "metadata": {},
   "outputs": [],
   "source": [
    "df.groupby('key1')['data1'].mean()"
   ]
  },
  {
   "cell_type": "code",
   "execution_count": null,
   "id": "b7d12d54",
   "metadata": {},
   "outputs": [],
   "source": [
    "# 注意上面那個跟這裡的寫法，兩個出來同一個效果\n",
    "df['data1'].groupby(df['key1']).mean()"
   ]
  },
  {
   "cell_type": "code",
   "execution_count": null,
   "id": "f8a6c40d",
   "metadata": {},
   "outputs": [],
   "source": [
    "# 兩個框框就變資料框了\n",
    "df.groupby('key1')[['data1']].mean()"
   ]
  },
  {
   "cell_type": "code",
   "execution_count": null,
   "id": "67b8ffea",
   "metadata": {},
   "outputs": [],
   "source": [
    "df[['data1']].groupby(df['key1']).mean()"
   ]
  },
  {
   "cell_type": "markdown",
   "id": "96875480",
   "metadata": {},
   "source": [
    "---"
   ]
  },
  {
   "cell_type": "code",
   "execution_count": null,
   "id": "fa7751b5",
   "metadata": {},
   "outputs": [],
   "source": [
    "df"
   ]
  },
  {
   "cell_type": "code",
   "execution_count": null,
   "id": "505cbbd3",
   "metadata": {},
   "outputs": [],
   "source": [
    "df.groupby(['key1', 'key2'])['data2'].mean() # 返回序列"
   ]
  },
  {
   "cell_type": "code",
   "execution_count": null,
   "id": "c427783e",
   "metadata": {},
   "outputs": [],
   "source": [
    "df.groupby(['key1', 'key2'])[['data2']].mean() # 返回資料框"
   ]
  },
  {
   "cell_type": "markdown",
   "id": "4e04c7a3",
   "metadata": {},
   "source": [
    "---"
   ]
  },
  {
   "cell_type": "code",
   "execution_count": null,
   "id": "ec83d92d",
   "metadata": {},
   "outputs": [],
   "source": [
    "# 分組的 key 也可以是字典或序列 \n",
    "# 對應關係要注意\n",
    "people = pd.DataFrame(np.random.randn(5, 5),\n",
    "                      columns = ['a', 'b', 'c', 'd', 'e'],\n",
    "                      index = ['Joe', 'Steve', 'Wes', 'Jim', 'Travis'])\n",
    "people"
   ]
  },
  {
   "cell_type": "code",
   "execution_count": null,
   "id": "8ba3b4e6",
   "metadata": {},
   "outputs": [],
   "source": [
    "people.iloc[2:3, [1, 2]] = np.nan\n",
    "people"
   ]
  },
  {
   "cell_type": "code",
   "execution_count": null,
   "id": "9164eb78",
   "metadata": {},
   "outputs": [],
   "source": [
    "mapping = {'a': 'red', 'b': 'red', 'c': 'blue', 'd': 'blue', 'e': 'red', 'f' : 'orange'}"
   ]
  },
  {
   "cell_type": "code",
   "execution_count": null,
   "id": "81481e33",
   "metadata": {},
   "outputs": [],
   "source": [
    "# 一個不會用到分組的 key 'f'，是不會有問題的\n",
    "# 但如果你是寫成【列表】，長度不對就會產生例外\n",
    "# 在操作時大部分的聚合方法都會忽略遺失值\n",
    "by_column = people.groupby(mapping, axis = 1) \n",
    "by_column.mean()"
   ]
  },
  {
   "cell_type": "markdown",
   "id": "ff94432c",
   "metadata": {},
   "source": [
    "---"
   ]
  },
  {
   "cell_type": "code",
   "execution_count": null,
   "id": "fdb7797e",
   "metadata": {},
   "outputs": [],
   "source": [
    "people"
   ]
  },
  {
   "cell_type": "code",
   "execution_count": null,
   "id": "cedb72f6",
   "metadata": {},
   "outputs": [],
   "source": [
    "map_Series = pd.Series(mapping)\n",
    "map_Series"
   ]
  },
  {
   "cell_type": "code",
   "execution_count": null,
   "id": "04c12bee",
   "metadata": {},
   "outputs": [],
   "source": [
    "people.groupby(map_Series, axis = 1).count() # 這裡的聚合方法 .count() 遺失值不會算入"
   ]
  },
  {
   "cell_type": "markdown",
   "id": "eae56a1d",
   "metadata": {},
   "source": [
    "---"
   ]
  },
  {
   "cell_type": "code",
   "execution_count": null,
   "id": "e24ce86b",
   "metadata": {},
   "outputs": [],
   "source": [
    "people"
   ]
  },
  {
   "cell_type": "code",
   "execution_count": null,
   "id": "3ab130af",
   "metadata": {},
   "outputs": [],
   "source": [
    "people.groupby(len)    #名字的長度"
   ]
  },
  {
   "cell_type": "code",
   "execution_count": null,
   "id": "97443bbf",
   "metadata": {},
   "outputs": [],
   "source": [
    "# 分組的 key 也可以是函式\n",
    "# 會作用在每個索引標籤上\n",
    "# 若加入參數 axis = 1 ，就會作用在欄位上\n",
    "people.groupby(len).sum()"
   ]
  },
  {
   "cell_type": "code",
   "execution_count": null,
   "id": "bad61987",
   "metadata": {},
   "outputs": [],
   "source": [
    "people.groupby(len, axis = 1).sum()"
   ]
  },
  {
   "cell_type": "code",
   "execution_count": null,
   "id": "96d9e51e",
   "metadata": {},
   "outputs": [],
   "source": [
    "key_list = ['one', 'one', 'one', 'two', 'two']\n",
    "people.groupby([len, key_list]).min()"
   ]
  },
  {
   "cell_type": "markdown",
   "id": "71bf30cb",
   "metadata": {},
   "source": [
    "---"
   ]
  },
  {
   "cell_type": "code",
   "execution_count": null,
   "id": "1698f379",
   "metadata": {},
   "outputs": [],
   "source": [
    "# 也可以對索引標籤做分組\n",
    "columns = pd.MultiIndex.from_arrays([['US', 'US', 'US', 'JP', 'JP'],\n",
    "                                    [1, 3, 5, 1, 3]],\n",
    "                                    names = ['cty', 'tenor'])\n",
    "hier_df = pd.DataFrame(np.random.randn(4, 5), columns = columns)\n",
    "hier_df"
   ]
  },
  {
   "cell_type": "raw",
   "id": "3a327efa",
   "metadata": {},
   "source": [
    "#groupby中指定level参数，因为根据我的理解，僅有 DataFrame中具有multiIndex时才需要level参数。"
   ]
  },
  {
   "cell_type": "code",
   "execution_count": null,
   "id": "ea20e016",
   "metadata": {
    "scrolled": true
   },
   "outputs": [],
   "source": [
    "hier_df.groupby(level = 'cty', axis = 1).count()    #groupby後對層級索引做的處理"
   ]
  },
  {
   "cell_type": "code",
   "execution_count": null,
   "id": "f0352a6f",
   "metadata": {},
   "outputs": [],
   "source": [
    "hier_df.groupby(level = 0).count()"
   ]
  },
  {
   "cell_type": "markdown",
   "id": "f2bb7b17",
   "metadata": {},
   "source": [
    "---"
   ]
  },
  {
   "cell_type": "code",
   "execution_count": null,
   "id": "8762b9cb",
   "metadata": {},
   "outputs": [],
   "source": [
    "sensor_data = pd.read_csv('./mod08/sensors.csv')\n",
    "sensor_data"
   ]
  },
  {
   "cell_type": "code",
   "execution_count": null,
   "id": "47ec50a0",
   "metadata": {},
   "outputs": [],
   "source": [
    "group_by_sensor = sensor_data.groupby('sensor')\n",
    "group_by_sensor # 返回一個 GroupBy 物件"
   ]
  },
  {
   "cell_type": "code",
   "execution_count": null,
   "id": "25e4bcaa",
   "metadata": {},
   "outputs": [],
   "source": [
    "# 如果想看分組數目可用 .ngroups() 屬性\n",
    "group_by_sensor.ngroups"
   ]
  },
  {
   "cell_type": "code",
   "execution_count": null,
   "id": "caa2d5a1",
   "metadata": {},
   "outputs": [],
   "source": [
    "group_by_sensor.groups"
   ]
  },
  {
   "cell_type": "markdown",
   "id": "ef6e35ed",
   "metadata": {},
   "source": [
    "---"
   ]
  },
  {
   "cell_type": "code",
   "execution_count": null,
   "id": "7ea01219",
   "metadata": {},
   "outputs": [],
   "source": [
    "for name, group in group_by_sensor:\n",
    "    print(name)\n",
    "    print(group)"
   ]
  },
  {
   "cell_type": "code",
   "execution_count": 8,
   "id": "903207a7",
   "metadata": {},
   "outputs": [],
   "source": [
    "# 可以定義成函式，這樣程式碼可以重複使用，注意裡面的參數是要帶入 GroupBy 物件\n",
    "def print_groups(group_object):\n",
    "    for name, group in group_object:\n",
    "        print(name)\n",
    "        print(group[:5])"
   ]
  },
  {
   "cell_type": "markdown",
   "id": "6d0f2a85",
   "metadata": {},
   "source": [
    "---"
   ]
  },
  {
   "cell_type": "code",
   "execution_count": null,
   "id": "ba40b678",
   "metadata": {},
   "outputs": [],
   "source": [
    "print_groups(group_by_sensor)"
   ]
  },
  {
   "cell_type": "code",
   "execution_count": null,
   "id": "dc6729d2",
   "metadata": {},
   "outputs": [],
   "source": [
    "# 返回序列Series \n",
    "# 資料列的個數，是不是遺失值都要算\n",
    "group_by_sensor.size()   "
   ]
  },
  {
   "cell_type": "code",
   "execution_count": null,
   "id": "1e84657d",
   "metadata": {},
   "outputs": [],
   "source": [
    "group_by_sensor.count() # 對列作操作數個數，排除遺失值"
   ]
  },
  {
   "cell_type": "code",
   "execution_count": null,
   "id": "00e68349",
   "metadata": {
    "scrolled": true
   },
   "outputs": [],
   "source": [
    "group_by_sensor.get_group('accel') # 可以用 GroupBy的 .get_group() 方法提取特定分組"
   ]
  },
  {
   "cell_type": "code",
   "execution_count": null,
   "id": "8d1aa5e3",
   "metadata": {},
   "outputs": [],
   "source": [
    "group_by_sensor.head(3) # GroupBy的方法，顯示每個分組的前三筆資料"
   ]
  },
  {
   "cell_type": "code",
   "execution_count": null,
   "id": "50b35381",
   "metadata": {},
   "outputs": [],
   "source": [
    "group_by_sensor.tail(3) # GroupBy的方法，顯示每個分組的後三筆資料"
   ]
  },
  {
   "cell_type": "code",
   "execution_count": null,
   "id": "4175c776",
   "metadata": {
    "scrolled": true
   },
   "outputs": [],
   "source": [
    "group_by_sensor.nth(1) # GroupBy的方法，傳回第二項   #取索引1的值"
   ]
  },
  {
   "cell_type": "code",
   "execution_count": null,
   "id": "dcb22740",
   "metadata": {},
   "outputs": [],
   "source": [
    "# GroupBy的方法，對每一組做敘述性統計量\n",
    "# axis 不是數值資料，所以沒有被顯示\n",
    "group_by_sensor.describe() "
   ]
  },
  {
   "cell_type": "markdown",
   "id": "0a85a868",
   "metadata": {},
   "source": [
    "---"
   ]
  },
  {
   "cell_type": "code",
   "execution_count": null,
   "id": "8c90783c",
   "metadata": {},
   "outputs": [],
   "source": [
    "sensor_data"
   ]
  },
  {
   "cell_type": "code",
   "execution_count": null,
   "id": "041a2830",
   "metadata": {},
   "outputs": [],
   "source": [
    "mcg = sensor_data.groupby(['sensor', 'axis']) # 因為指定了好幾行，所以名字變成了 tuple\n",
    "print_groups(mcg)"
   ]
  },
  {
   "cell_type": "markdown",
   "id": "f71e8c82",
   "metadata": {},
   "source": [
    "---"
   ]
  },
  {
   "cell_type": "code",
   "execution_count": null,
   "id": "0369d34c",
   "metadata": {},
   "outputs": [],
   "source": [
    "mi = sensor_data.copy()\n",
    "mi = mi.set_index(['sensor', 'axis'])\n",
    "mi"
   ]
  },
  {
   "cell_type": "code",
   "execution_count": null,
   "id": "f7a90dac",
   "metadata": {},
   "outputs": [],
   "source": [
    "print_groups(mi.groupby(level = 0)) # 對索引標籤進行分組   #往上看已經有定義print_groups"
   ]
  },
  {
   "cell_type": "code",
   "execution_count": null,
   "id": "51f43501",
   "metadata": {},
   "outputs": [],
   "source": [
    "print_groups(mi.groupby(level = ['sensor', 'axis']))"
   ]
  },
  {
   "cell_type": "markdown",
   "id": "cc877200",
   "metadata": {},
   "source": [
    "## 套用聚合函數"
   ]
  },
  {
   "cell_type": "code",
   "execution_count": null,
   "id": "27c2c055",
   "metadata": {},
   "outputs": [],
   "source": [
    "s = pd.Series([1, 2, 3, 4, 5, 6, 7, 8, 9])\n",
    "s"
   ]
  },
  {
   "cell_type": "code",
   "execution_count": null,
   "id": "84ab0013",
   "metadata": {},
   "outputs": [],
   "source": [
    "# Return value at the given quantile.\n",
    "# 找出分位數\n",
    "s.quantile(0.5)"
   ]
  },
  {
   "cell_type": "code",
   "execution_count": null,
   "id": "53d9afb4",
   "metadata": {},
   "outputs": [],
   "source": [
    "s.quantile([0.25, 0.5, 0.75])"
   ]
  },
  {
   "cell_type": "markdown",
   "id": "79761618",
   "metadata": {},
   "source": [
    "--------------"
   ]
  },
  {
   "cell_type": "code",
   "execution_count": null,
   "id": "d6b4ed1b",
   "metadata": {},
   "outputs": [],
   "source": [
    "s = pd.Series([1, 2, 3, 4])\n",
    "s"
   ]
  },
  {
   "cell_type": "code",
   "execution_count": null,
   "id": "39f724a4",
   "metadata": {},
   "outputs": [],
   "source": [
    "s.quantile(0.5)"
   ]
  },
  {
   "cell_type": "code",
   "execution_count": null,
   "id": "2970cbb7",
   "metadata": {},
   "outputs": [],
   "source": [
    "# Return value at the given quantile.\n",
    "# 找出分位數quantile\n",
    "# 第一步看位置，四個數共三格\n",
    "# 在 1 + 0.25*3 = 1.75 的位置 \n",
    "# 第 1 的數是 1 ，第 2 的數是 2，回推第 1.75位置的數是多少\n",
    "s.quantile([0.25, 0.5, 0.75, 0.9])"
   ]
  },
  {
   "cell_type": "markdown",
   "id": "d35e2409",
   "metadata": {},
   "source": [
    "---------"
   ]
  },
  {
   "cell_type": "code",
   "execution_count": null,
   "id": "890123f2",
   "metadata": {},
   "outputs": [],
   "source": [
    "df = pd.DataFrame({'key1' : ['a', 'a', 'b', 'b', 'a'],\n",
    "                   'key2' : ['one', 'two', 'one', 'two', 'one'],\n",
    "                   'data1' : np.random.randn(5),\n",
    "                   'data2' : np.random.randn(5)})\n",
    "df"
   ]
  },
  {
   "cell_type": "code",
   "execution_count": null,
   "id": "d2c0d2f3",
   "metadata": {
    "scrolled": true
   },
   "outputs": [],
   "source": [
    "# 如果沒寫 [['data1', 'data2']]，會出現警告，因為非數值的 key2 沒辦法算分位數\n",
    "grouped = df.groupby('key1')[['data1', 'data2']]"
   ]
  },
  {
   "cell_type": "code",
   "execution_count": null,
   "id": "06a4eda7",
   "metadata": {},
   "outputs": [],
   "source": [
    "grouped.quantile(0.5)"
   ]
  },
  {
   "cell_type": "code",
   "execution_count": null,
   "id": "135a4e7e",
   "metadata": {},
   "outputs": [],
   "source": [
    "grouped.mean()"
   ]
  },
  {
   "cell_type": "code",
   "execution_count": null,
   "id": "9e7eefe5",
   "metadata": {},
   "outputs": [],
   "source": [
    "# 另一種寫法\n",
    "# 用 .agg() 方法，傳入聚合的函數  #好處是可以同時運用多個函數\n",
    "grouped.agg(np.mean)"
   ]
  },
  {
   "cell_type": "code",
   "execution_count": null,
   "id": "890487a5",
   "metadata": {},
   "outputs": [],
   "source": [
    "# 也可以傳入字串，但有些沒辦法被辨識出\n",
    "grouped.agg('mean')"
   ]
  },
  {
   "cell_type": "markdown",
   "id": "9ea5c426",
   "metadata": {},
   "source": [
    "---"
   ]
  },
  {
   "cell_type": "code",
   "execution_count": null,
   "id": "4d7dd319",
   "metadata": {},
   "outputs": [],
   "source": [
    "print_groups(grouped)"
   ]
  },
  {
   "cell_type": "code",
   "execution_count": 6,
   "id": "37d7a9fe",
   "metadata": {},
   "outputs": [],
   "source": [
    "# 注意 arr 傳入的會是序列\n",
    "def peak_to_peak(arr):\n",
    "    return arr.max() - arr.min()"
   ]
  },
  {
   "cell_type": "code",
   "execution_count": null,
   "id": "d98f3b3b",
   "metadata": {},
   "outputs": [],
   "source": [
    "# 傳入自定義的函數\n",
    "grouped.agg(peak_to_peak)"
   ]
  },
  {
   "cell_type": "code",
   "execution_count": 7,
   "id": "88ec7ac3",
   "metadata": {},
   "outputs": [],
   "source": [
    "def max_Series(arr):\n",
    "    return max(arr.map(abs))"
   ]
  },
  {
   "cell_type": "code",
   "execution_count": null,
   "id": "8af2d28e",
   "metadata": {},
   "outputs": [],
   "source": [
    "# 傳入自定義的函數\n",
    "grouped.agg(max_Series)"
   ]
  },
  {
   "cell_type": "code",
   "execution_count": null,
   "id": "303209b5",
   "metadata": {},
   "outputs": [],
   "source": [
    "grouped.describe()"
   ]
  },
  {
   "cell_type": "markdown",
   "id": "cf08936d",
   "metadata": {},
   "source": [
    "---"
   ]
  },
  {
   "cell_type": "code",
   "execution_count": null,
   "id": "6af84879",
   "metadata": {},
   "outputs": [],
   "source": [
    "tips = pd.read_csv('./mod08/tips.csv')\n",
    "tips"
   ]
  },
  {
   "cell_type": "code",
   "execution_count": null,
   "id": "d4a02fe7",
   "metadata": {},
   "outputs": [],
   "source": [
    "# 加入小費佔總結帳金額的比例\n",
    "\n",
    "tips['tip_pct'] = tips['tip'] / tips['total_bill']\n",
    "tips[:6]"
   ]
  },
  {
   "cell_type": "code",
   "execution_count": null,
   "id": "e097601a",
   "metadata": {
    "scrolled": true
   },
   "outputs": [],
   "source": [
    "grouped = tips.groupby(['day', 'smoker'])\n",
    "print_groups(grouped)"
   ]
  },
  {
   "cell_type": "code",
   "execution_count": null,
   "id": "b540a5ad",
   "metadata": {},
   "outputs": [],
   "source": [
    "# 關注欄位 tip_pct\n",
    "grouped_pct = grouped['tip_pct']"
   ]
  },
  {
   "cell_type": "code",
   "execution_count": null,
   "id": "2a0d8410",
   "metadata": {},
   "outputs": [],
   "source": [
    "grouped_pct.agg('mean')"
   ]
  },
  {
   "cell_type": "code",
   "execution_count": null,
   "id": "f0611fab",
   "metadata": {},
   "outputs": [],
   "source": [
    "grouped_pct.agg(['mean', 'std', peak_to_peak])"
   ]
  },
  {
   "cell_type": "code",
   "execution_count": null,
   "id": "619ef35c",
   "metadata": {
    "scrolled": true
   },
   "outputs": [],
   "source": [
    "grouped_pct.agg([('foo', 'mean'), ('bar', np.std)]) # 傳入 (name, function) 的 tuple"
   ]
  },
  {
   "cell_type": "markdown",
   "id": "c6914106",
   "metadata": {},
   "source": [
    "---"
   ]
  },
  {
   "cell_type": "code",
   "execution_count": null,
   "id": "10c3f9e3",
   "metadata": {},
   "outputs": [],
   "source": [
    "print_groups(grouped)"
   ]
  },
  {
   "cell_type": "code",
   "execution_count": null,
   "id": "4e445f18",
   "metadata": {},
   "outputs": [],
   "source": [
    "result = grouped[['tip_pct', 'total_bill']].agg(['count', 'mean', 'max'])\n",
    "result"
   ]
  },
  {
   "cell_type": "code",
   "execution_count": null,
   "id": "acc7c3e9",
   "metadata": {},
   "outputs": [],
   "source": [
    "result['tip_pct']"
   ]
  },
  {
   "cell_type": "code",
   "execution_count": null,
   "id": "6a3d73ec",
   "metadata": {},
   "outputs": [],
   "source": [
    "# Durchschnitt 是德語的平均，Abweichung 是德語的變異數\n",
    "grouped[['tip_pct', 'total_bill']].agg([('Durchschnitt', 'mean'), ('Abweichung', np.var)])   #var 標準差"
   ]
  },
  {
   "cell_type": "markdown",
   "id": "82c7c3c8",
   "metadata": {},
   "source": [
    "---"
   ]
  },
  {
   "cell_type": "code",
   "execution_count": null,
   "id": "d6331275",
   "metadata": {},
   "outputs": [],
   "source": [
    "print_groups(grouped)"
   ]
  },
  {
   "cell_type": "code",
   "execution_count": null,
   "id": "572955ad",
   "metadata": {},
   "outputs": [],
   "source": [
    "grouped.agg({'tip': np.max, 'size': 'sum'})  # 針對不同行套用不同的函式"
   ]
  },
  {
   "cell_type": "code",
   "execution_count": null,
   "id": "34184c5a",
   "metadata": {},
   "outputs": [],
   "source": [
    "grouped.agg({'tip_pct' : ['min', 'max', 'mean', 'std'],\n",
    "             'size' : 'sum'})"
   ]
  },
  {
   "cell_type": "markdown",
   "id": "cac0b6ac",
   "metadata": {},
   "source": [
    "---"
   ]
  },
  {
   "cell_type": "code",
   "execution_count": null,
   "id": "4a327fa7",
   "metadata": {},
   "outputs": [],
   "source": [
    "tips"
   ]
  },
  {
   "cell_type": "code",
   "execution_count": null,
   "id": "5c07cbbb",
   "metadata": {},
   "outputs": [],
   "source": [
    "tips.groupby(['day','smoker']).mean()    #被groupby的 就會變成index"
   ]
  },
  {
   "cell_type": "code",
   "execution_count": null,
   "id": "a4813a4e",
   "metadata": {},
   "outputs": [],
   "source": [
    "# 如果加入參數 as_index = False，day 與 smoker 就不會變成索引標籤\n",
    "tips.groupby(['day', 'smoker'], as_index = False).mean()"
   ]
  },
  {
   "cell_type": "markdown",
   "id": "68d1f467",
   "metadata": {},
   "source": [
    "-----------"
   ]
  },
  {
   "cell_type": "code",
   "execution_count": null,
   "id": "94817148",
   "metadata": {},
   "outputs": [],
   "source": [
    "sensor_data = pd.read_csv('./mod08/sensors.csv')\n",
    "sensor_data[:5]"
   ]
  },
  {
   "cell_type": "code",
   "execution_count": null,
   "id": "e4c1b9dc",
   "metadata": {},
   "outputs": [],
   "source": [
    "mi = sensor_data.copy()\n",
    "mi = mi.set_index(['sensor', 'axis'])\n",
    "mi[:5]"
   ]
  },
  {
   "cell_type": "code",
   "execution_count": null,
   "id": "0a461fac",
   "metadata": {},
   "outputs": [],
   "source": [
    "sensor_axis_grouping = mi.groupby(level = ['sensor', 'axis'])   #要groupby index要加個level\n",
    "print_groups(sensor_axis_grouping)"
   ]
  },
  {
   "cell_type": "code",
   "execution_count": null,
   "id": "036dcb3e",
   "metadata": {},
   "outputs": [],
   "source": [
    "sensor_axis_grouping.agg(np.mean)"
   ]
  },
  {
   "cell_type": "markdown",
   "id": "bd79e3c5",
   "metadata": {},
   "source": [
    "---"
   ]
  },
  {
   "cell_type": "code",
   "execution_count": null,
   "id": "eb7a26d5",
   "metadata": {},
   "outputs": [],
   "source": [
    "sensor_data"
   ]
  },
  {
   "cell_type": "code",
   "execution_count": null,
   "id": "22499687",
   "metadata": {},
   "outputs": [],
   "source": [
    "sensor_data.groupby(['sensor', 'axis']).agg(np.mean) # 預設 as_index = True"
   ]
  },
  {
   "cell_type": "code",
   "execution_count": null,
   "id": "be7c1566",
   "metadata": {},
   "outputs": [],
   "source": [
    "sensor_data.groupby(['sensor', 'axis'], as_index = False).agg(np.mean) "
   ]
  },
  {
   "cell_type": "markdown",
   "id": "4e5a3c90",
   "metadata": {},
   "source": [
    "---"
   ]
  },
  {
   "cell_type": "code",
   "execution_count": null,
   "id": "9f436c73",
   "metadata": {},
   "outputs": [],
   "source": [
    "print_groups(sensor_axis_grouping)"
   ]
  },
  {
   "cell_type": "code",
   "execution_count": null,
   "id": "c29cc898",
   "metadata": {
    "scrolled": true
   },
   "outputs": [],
   "source": [
    "sensor_axis_grouping.mean()"
   ]
  },
  {
   "cell_type": "code",
   "execution_count": null,
   "id": "38cbaf50",
   "metadata": {},
   "outputs": [],
   "source": [
    "sensor_axis_grouping.agg(np.mean)"
   ]
  },
  {
   "cell_type": "code",
   "execution_count": null,
   "id": "f577454b",
   "metadata": {},
   "outputs": [],
   "source": [
    "sensor_axis_grouping.agg([np.sum, np.std])"
   ]
  },
  {
   "cell_type": "code",
   "execution_count": null,
   "id": "98a1c874",
   "metadata": {},
   "outputs": [],
   "source": [
    "# 針對不同行套用不同的函式\n",
    "# len 在算序列的長度    #len是對分組的每個資料框取幾筆資料\n",
    "sensor_axis_grouping.agg({'interval': len, 'reading': np.mean})       \n",
    "\n",
    "\n",
    "#參考這個執行結果去算有幾筆資料   print_groups(sensor_axis_grouping)  print_groups 會印出5筆，可是每組都只有4筆 所以表示他們真的都只有4筆"
   ]
  },
  {
   "cell_type": "code",
   "execution_count": null,
   "id": "65deb1e8",
   "metadata": {},
   "outputs": [],
   "source": [
    "sensor_axis_grouping['reading'].mean() # 返回序列"
   ]
  },
  {
   "cell_type": "code",
   "execution_count": null,
   "id": "74ecbf0a",
   "metadata": {},
   "outputs": [],
   "source": [
    "sensor_axis_grouping[['reading']].mean() # 返回資料框"
   ]
  },
  {
   "cell_type": "markdown",
   "id": "3fc092e0",
   "metadata": {},
   "source": [
    "## 轉換分組資料"
   ]
  },
  {
   "cell_type": "code",
   "execution_count": null,
   "id": "2813eb71",
   "metadata": {},
   "outputs": [],
   "source": [
    "df = pd.DataFrame({'A': 'a b a'.split(),\n",
    "                   'B': [1, 2, 3],\n",
    "                   'C': [4, 6, 5]})\n",
    "df"
   ]
  },
  {
   "cell_type": "code",
   "execution_count": null,
   "id": "a72eb968",
   "metadata": {},
   "outputs": [],
   "source": [
    "g = df.groupby('A')"
   ]
  },
  {
   "cell_type": "code",
   "execution_count": null,
   "id": "fa319f34",
   "metadata": {},
   "outputs": [],
   "source": [
    "print_groups(g)"
   ]
  },
  {
   "cell_type": "markdown",
   "id": "b7b71401",
   "metadata": {},
   "source": [
    "-------------"
   ]
  },
  {
   "cell_type": "code",
   "execution_count": null,
   "id": "f5dccd48",
   "metadata": {},
   "outputs": [],
   "source": [
    "g[['B', 'C']].mean()"
   ]
  },
  {
   "cell_type": "raw",
   "id": "8beda000",
   "metadata": {},
   "source": [
    "# 序列的 .apply() 方法作用在值上，資料框的 .apply() 方法作用在序列上， GroupBy 物件作用在分組後的每個資料框或序列上\n",
    "# GroupBy 物件作用 .apply() 方法後只要回來的還是跟原資料框同大小與順序，沒有聚合的效果，會把算出來的答案還原到原始的資料框"
   ]
  },
  {
   "cell_type": "code",
   "execution_count": null,
   "id": "5627a0b4",
   "metadata": {},
   "outputs": [],
   "source": [
    "g[['B', 'C']].apply(lambda x: x + 2) "
   ]
  },
  {
   "cell_type": "code",
   "execution_count": null,
   "id": "5ce4e037",
   "metadata": {},
   "outputs": [],
   "source": [
    "g[['B', 'C']].apply(lambda x: x / x.sum())"
   ]
  },
  {
   "cell_type": "raw",
   "id": "40db48a0",
   "metadata": {},
   "source": [
    "#  GroupBy 物件作用 .apply() 方法後有聚合的效果，會把每組算出來的答案像 pd.concat() 的方式把每組的結果串聯起來\n",
    "# 且把分組的名字納入索引標籤"
   ]
  },
  {
   "cell_type": "code",
   "execution_count": null,
   "id": "63a0312d",
   "metadata": {},
   "outputs": [],
   "source": [
    "print_groups(g)"
   ]
  },
  {
   "cell_type": "code",
   "execution_count": null,
   "id": "0cc9f641",
   "metadata": {},
   "outputs": [],
   "source": [
    "g[['B', 'C']].apply(lambda x: x.max() - x.min())"
   ]
  },
  {
   "cell_type": "code",
   "execution_count": null,
   "id": "66eca156",
   "metadata": {},
   "outputs": [],
   "source": [
    "g.apply(lambda x: x.C.max())"
   ]
  },
  {
   "cell_type": "markdown",
   "id": "7e49d696",
   "metadata": {},
   "source": [
    "------------------"
   ]
  },
  {
   "cell_type": "code",
   "execution_count": null,
   "id": "1d0e1f1f",
   "metadata": {},
   "outputs": [],
   "source": [
    "tips = pd.read_csv('./mod08/tips.csv')\n",
    "tips['tip_pct'] = tips['tip'] / tips['total_bill']\n",
    "tips[:6]"
   ]
  },
  {
   "cell_type": "code",
   "execution_count": 5,
   "id": "f9a78e39",
   "metadata": {},
   "outputs": [
    {
     "ename": "NameError",
     "evalue": "name 'tips' is not defined",
     "output_type": "error",
     "traceback": [
      "\u001b[1;31m---------------------------------------------------------------------------\u001b[0m",
      "\u001b[1;31mNameError\u001b[0m                                 Traceback (most recent call last)",
      "\u001b[1;32m<ipython-input-5-eb63dcfa9a1a>\u001b[0m in \u001b[0;36m<module>\u001b[1;34m\u001b[0m\n\u001b[0;32m      2\u001b[0m     \u001b[1;32mreturn\u001b[0m \u001b[0mdf\u001b[0m\u001b[1;33m.\u001b[0m\u001b[0msort_values\u001b[0m\u001b[1;33m(\u001b[0m\u001b[0mby\u001b[0m \u001b[1;33m=\u001b[0m \u001b[0mcolumn\u001b[0m\u001b[1;33m)\u001b[0m\u001b[1;33m[\u001b[0m\u001b[1;33m-\u001b[0m\u001b[0mn\u001b[0m\u001b[1;33m:\u001b[0m\u001b[1;33m]\u001b[0m   \u001b[1;31m#取最大\u001b[0m\u001b[1;33m\u001b[0m\u001b[1;33m\u001b[0m\u001b[0m\n\u001b[0;32m      3\u001b[0m \u001b[1;33m\u001b[0m\u001b[0m\n\u001b[1;32m----> 4\u001b[1;33m \u001b[0mtop\u001b[0m\u001b[1;33m(\u001b[0m\u001b[0mtips\u001b[0m\u001b[1;33m,\u001b[0m \u001b[0mn\u001b[0m \u001b[1;33m=\u001b[0m \u001b[1;36m6\u001b[0m\u001b[1;33m)\u001b[0m\u001b[1;33m\u001b[0m\u001b[1;33m\u001b[0m\u001b[0m\n\u001b[0m",
      "\u001b[1;31mNameError\u001b[0m: name 'tips' is not defined"
     ]
    }
   ],
   "source": [
    "def top(df, n = 5, column = 'tip_pct'):\n",
    "    return df.sort_values(by = column)[-n:]   #取最大\n",
    "\n",
    "top(tips, n = 6)"
   ]
  },
  {
   "cell_type": "markdown",
   "id": "2bac9b5b",
   "metadata": {},
   "source": [
    "---------"
   ]
  },
  {
   "cell_type": "code",
   "execution_count": null,
   "id": "7b7e1e07",
   "metadata": {},
   "outputs": [],
   "source": [
    "print_groups(tips.groupby('smoker'))"
   ]
  },
  {
   "cell_type": "code",
   "execution_count": null,
   "id": "9f45feab",
   "metadata": {
    "scrolled": true
   },
   "outputs": [],
   "source": [
    "# 序列的 .apply() 方法作用在值上，資料框的 .apply() 方法作用在序列上， GroupBy 物件作用在分組後的每個資料框或序列上\n",
    "# 每看到一個群組就會呼叫 top 函式\n",
    "# 會用類似 pandas.concat 的方式串連起來，用分組名稱標示每塊資料，所以最後出來的結果帶有階層式索引\n",
    "#看上面的top字定義函式\n",
    "\n",
    "tips.groupby('smoker').apply(top)"
   ]
  },
  {
   "cell_type": "markdown",
   "id": "d465b1e5",
   "metadata": {},
   "source": [
    "-----------------------"
   ]
  },
  {
   "cell_type": "code",
   "execution_count": null,
   "id": "6b100a6a",
   "metadata": {},
   "outputs": [],
   "source": [
    "print_groups(tips.groupby(['smoker', 'day']))"
   ]
  },
  {
   "cell_type": "code",
   "execution_count": null,
   "id": "6e5c7f3a",
   "metadata": {},
   "outputs": [],
   "source": [
    "# 有其他參數或關鍵字要傳的話，將他們寫在函式名稱後面即可\n",
    "\n",
    "tips.groupby(['smoker', 'day']).apply(top, n = 1, column = 'total_bill')   #n-1顯示一個，所以每組都顯示最後一筆，最後再把每組的結果串聯起來"
   ]
  },
  {
   "cell_type": "markdown",
   "id": "42228a0b",
   "metadata": {},
   "source": [
    "---"
   ]
  },
  {
   "cell_type": "code",
   "execution_count": null,
   "id": "07157400",
   "metadata": {
    "scrolled": true
   },
   "outputs": [],
   "source": [
    "print_groups(tips.groupby('smoker'))"
   ]
  },
  {
   "cell_type": "code",
   "execution_count": null,
   "id": "0f81ac43",
   "metadata": {},
   "outputs": [],
   "source": [
    "result = tips.groupby('smoker')['tip_pct'].describe()\n",
    "result"
   ]
  },
  {
   "cell_type": "code",
   "execution_count": null,
   "id": "72523ec9",
   "metadata": {},
   "outputs": [],
   "source": [
    "result.stack()"
   ]
  },
  {
   "cell_type": "markdown",
   "id": "3f7876d3",
   "metadata": {},
   "source": [
    "---------"
   ]
  },
  {
   "cell_type": "code",
   "execution_count": null,
   "id": "1994504c",
   "metadata": {},
   "outputs": [],
   "source": [
    "tips"
   ]
  },
  {
   "cell_type": "code",
   "execution_count": null,
   "id": "ee05ff12",
   "metadata": {},
   "outputs": [],
   "source": [
    "print_groups(tips.groupby('smoker')['tip_pct'])"
   ]
  },
  {
   "cell_type": "code",
   "execution_count": null,
   "id": "d5bad94f",
   "metadata": {
    "scrolled": true
   },
   "outputs": [],
   "source": [
    "tips.groupby('smoker')['tip_pct'].apply(lambda x: x.describe())"
   ]
  },
  {
   "cell_type": "markdown",
   "id": "3255acf0",
   "metadata": {},
   "source": [
    "---"
   ]
  },
  {
   "cell_type": "code",
   "execution_count": null,
   "id": "99c7df7c",
   "metadata": {},
   "outputs": [],
   "source": [
    "print_groups(tips.groupby('smoker'))"
   ]
  },
  {
   "cell_type": "code",
   "execution_count": null,
   "id": "e1271598",
   "metadata": {
    "scrolled": true
   },
   "outputs": [],
   "source": [
    "tips.groupby('smoker').apply(top)   #tip_pct最大的五筆"
   ]
  },
  {
   "cell_type": "code",
   "execution_count": null,
   "id": "709a3260",
   "metadata": {
    "scrolled": true
   },
   "outputs": [],
   "source": [
    "tips.groupby('smoker', group_keys = False).apply(top) # 關閉分組索引製作功能"
   ]
  },
  {
   "cell_type": "markdown",
   "id": "c1f4cb4a",
   "metadata": {},
   "source": [
    "---"
   ]
  },
  {
   "cell_type": "code",
   "execution_count": 4,
   "id": "b8b0933f",
   "metadata": {},
   "outputs": [
    {
     "data": {
      "text/html": [
       "<div>\n",
       "<style scoped>\n",
       "    .dataframe tbody tr th:only-of-type {\n",
       "        vertical-align: middle;\n",
       "    }\n",
       "\n",
       "    .dataframe tbody tr th {\n",
       "        vertical-align: top;\n",
       "    }\n",
       "\n",
       "    .dataframe thead th {\n",
       "        text-align: right;\n",
       "    }\n",
       "</style>\n",
       "<table border=\"1\" class=\"dataframe\">\n",
       "  <thead>\n",
       "    <tr style=\"text-align: right;\">\n",
       "      <th></th>\n",
       "      <th>data1</th>\n",
       "      <th>data2</th>\n",
       "    </tr>\n",
       "  </thead>\n",
       "  <tbody>\n",
       "    <tr>\n",
       "      <th>0</th>\n",
       "      <td>0.697092</td>\n",
       "      <td>-2.348700</td>\n",
       "    </tr>\n",
       "    <tr>\n",
       "      <th>1</th>\n",
       "      <td>0.576003</td>\n",
       "      <td>-0.562828</td>\n",
       "    </tr>\n",
       "    <tr>\n",
       "      <th>2</th>\n",
       "      <td>0.277275</td>\n",
       "      <td>0.802813</td>\n",
       "    </tr>\n",
       "    <tr>\n",
       "      <th>3</th>\n",
       "      <td>-0.816284</td>\n",
       "      <td>2.036062</td>\n",
       "    </tr>\n",
       "    <tr>\n",
       "      <th>4</th>\n",
       "      <td>-0.268302</td>\n",
       "      <td>0.785688</td>\n",
       "    </tr>\n",
       "    <tr>\n",
       "      <th>...</th>\n",
       "      <td>...</td>\n",
       "      <td>...</td>\n",
       "    </tr>\n",
       "    <tr>\n",
       "      <th>995</th>\n",
       "      <td>-0.243651</td>\n",
       "      <td>-0.844934</td>\n",
       "    </tr>\n",
       "    <tr>\n",
       "      <th>996</th>\n",
       "      <td>-0.660795</td>\n",
       "      <td>-1.519197</td>\n",
       "    </tr>\n",
       "    <tr>\n",
       "      <th>997</th>\n",
       "      <td>0.550623</td>\n",
       "      <td>0.247407</td>\n",
       "    </tr>\n",
       "    <tr>\n",
       "      <th>998</th>\n",
       "      <td>-0.808339</td>\n",
       "      <td>-0.769361</td>\n",
       "    </tr>\n",
       "    <tr>\n",
       "      <th>999</th>\n",
       "      <td>1.678247</td>\n",
       "      <td>0.554935</td>\n",
       "    </tr>\n",
       "  </tbody>\n",
       "</table>\n",
       "<p>1000 rows × 2 columns</p>\n",
       "</div>"
      ],
      "text/plain": [
       "        data1     data2\n",
       "0    0.697092 -2.348700\n",
       "1    0.576003 -0.562828\n",
       "2    0.277275  0.802813\n",
       "3   -0.816284  2.036062\n",
       "4   -0.268302  0.785688\n",
       "..        ...       ...\n",
       "995 -0.243651 -0.844934\n",
       "996 -0.660795 -1.519197\n",
       "997  0.550623  0.247407\n",
       "998 -0.808339 -0.769361\n",
       "999  1.678247  0.554935\n",
       "\n",
       "[1000 rows x 2 columns]"
      ]
     },
     "execution_count": 4,
     "metadata": {},
     "output_type": "execute_result"
    }
   ],
   "source": [
    "# 分位數與購物籃分析\n",
    "\n",
    "frame = pd.DataFrame({'data1': np.random.randn(1000),\n",
    "                      'data2': np.random.randn(1000)})\n",
    "frame"
   ]
  },
  {
   "cell_type": "code",
   "execution_count": null,
   "id": "0c37fa6a",
   "metadata": {},
   "outputs": [],
   "source": [
    "quartiles = pd.cut(frame.data1, 4)\n",
    "quartiles[:10]"
   ]
  },
  {
   "cell_type": "code",
   "execution_count": null,
   "id": "249ec441",
   "metadata": {},
   "outputs": [],
   "source": [
    "grouped = frame.data2.groupby(quartiles)     \n",
    "print_groups(grouped)"
   ]
  },
  {
   "cell_type": "code",
   "execution_count": null,
   "id": "be4e20c5",
   "metadata": {},
   "outputs": [],
   "source": [
    "#上題詳細說明\n",
    "#照索引標籤\n",
    "#groupby(quartiles)  就會區分成四個 [(-3.42, -1.722] < (-1.722, -0.0303] < (-0.0303, 1.661] < (1.661, 3.352]]\n",
    "#data2 的 -1.147472的索引標籤是0   所以被分到0裡面去\n",
    "                          data2\n",
    "0       (1.661, 3.352]  -1.147472\n",
    "1    (-1.722, -0.0303]  -1.207570\n",
    "2      (-3.42, -1.722]  -0.888669\n",
    "3    (-1.722, -0.0303]  -0.862125\n",
    "4    (-1.722, -0.0303]   1.087604\n",
    "5     (-0.0303, 1.661]\n",
    "6    (-1.722, -0.0303]\n",
    "7    (-1.722, -0.0303]\n",
    "8     (-0.0303, 1.661]\n",
    "9    (-1.722, -0.0303]"
   ]
  },
  {
   "cell_type": "code",
   "execution_count": null,
   "id": "aca661cd",
   "metadata": {},
   "outputs": [],
   "source": [
    "grouped.max()"
   ]
  },
  {
   "cell_type": "code",
   "execution_count": 3,
   "id": "b0dc2e06",
   "metadata": {},
   "outputs": [
    {
     "ename": "NameError",
     "evalue": "name 'grouped' is not defined",
     "output_type": "error",
     "traceback": [
      "\u001b[1;31m---------------------------------------------------------------------------\u001b[0m",
      "\u001b[1;31mNameError\u001b[0m                                 Traceback (most recent call last)",
      "\u001b[1;32m<ipython-input-3-5bb1a3e3f6e5>\u001b[0m in \u001b[0;36m<module>\u001b[1;34m\u001b[0m\n\u001b[0;32m      5\u001b[0m             'mean': group.mean()} \n\u001b[0;32m      6\u001b[0m \u001b[1;33m\u001b[0m\u001b[0m\n\u001b[1;32m----> 7\u001b[1;33m \u001b[0mgrouped\u001b[0m\u001b[1;33m.\u001b[0m\u001b[0mapply\u001b[0m\u001b[1;33m(\u001b[0m\u001b[0mget_stats\u001b[0m\u001b[1;33m)\u001b[0m\u001b[1;33m\u001b[0m\u001b[1;33m\u001b[0m\u001b[0m\n\u001b[0m",
      "\u001b[1;31mNameError\u001b[0m: name 'grouped' is not defined"
     ]
    }
   ],
   "source": [
    "def get_stats(group):\n",
    "    return {'min': group.min(), \n",
    "            'max': group.max(),\n",
    "            'count': group.count(),\n",
    "            'mean': group.mean()} \n",
    "\n",
    "grouped.apply(get_stats)"
   ]
  },
  {
   "cell_type": "code",
   "execution_count": null,
   "id": "42838539",
   "metadata": {},
   "outputs": [],
   "source": [
    "# 寫成字典會得到跟剛剛一樣的效果，出來的字典型態會被轉換成序列在串連起來\n",
    "def get_stats(group):\n",
    "    return  {'min': group.min(), \n",
    "            'max': group.max(),\n",
    "            'count': group.count(),\n",
    "            'mean': group.mean()}\n",
    "\n",
    "grouped.apply(get_stats)"
   ]
  },
  {
   "cell_type": "code",
   "execution_count": null,
   "id": "b3162859",
   "metadata": {},
   "outputs": [],
   "source": [
    "grouped.apply(get_stats).unstack()"
   ]
  },
  {
   "cell_type": "markdown",
   "id": "60c33d5e",
   "metadata": {},
   "source": [
    "---"
   ]
  },
  {
   "cell_type": "code",
   "execution_count": null,
   "id": "d6d57cb8",
   "metadata": {},
   "outputs": [],
   "source": [
    "frame"
   ]
  },
  {
   "cell_type": "code",
   "execution_count": null,
   "id": "4e92e617",
   "metadata": {
    "scrolled": false
   },
   "outputs": [],
   "source": [
    "#把 data1分成10個桶子\n",
    "grouping = pd.qcut(frame.data1, 10)   \n",
    "grouping"
   ]
  },
  {
   "cell_type": "code",
   "execution_count": null,
   "id": "a3f4d835",
   "metadata": {},
   "outputs": [],
   "source": [
    "# 如果加入參數 labels = False，會把桶子名改成數值，從 0 開始算起。  \n",
    "grouping = pd.qcut(frame.data1, 10,labels=False)\n",
    "grouping\n",
    "\n",
    "#索引0 在第九個桶子  / 索引1  在第4個桶子  "
   ]
  },
  {
   "cell_type": "code",
   "execution_count": null,
   "id": "a3e8c4d1",
   "metadata": {},
   "outputs": [],
   "source": [
    "grouped = frame.data2.groupby(grouping)\n",
    "print_groups(grouped)    \n",
    "\n",
    "#索引0 在第九個桶子  / 索引1  在第4個桶子  "
   ]
  },
  {
   "cell_type": "code",
   "execution_count": null,
   "id": "f365beb0",
   "metadata": {},
   "outputs": [],
   "source": [
    "grouped.apply(get_stats)"
   ]
  },
  {
   "cell_type": "code",
   "execution_count": null,
   "id": "e16cc714",
   "metadata": {},
   "outputs": [],
   "source": [
    "grouped.apply(get_stats).unstack()"
   ]
  },
  {
   "cell_type": "markdown",
   "id": "f7d077e4",
   "metadata": {},
   "source": [
    "---"
   ]
  },
  {
   "cell_type": "code",
   "execution_count": null,
   "id": "9ba209f5",
   "metadata": {},
   "outputs": [],
   "source": [
    "df = pd.DataFrame({'key': ['a', 'b', 'c']*4,\n",
    "                   'value': np.arange(12.)})\n",
    "df"
   ]
  },
  {
   "cell_type": "code",
   "execution_count": null,
   "id": "1fcf53fa",
   "metadata": {},
   "outputs": [],
   "source": [
    "g = df.groupby('key')['value']"
   ]
  },
  {
   "cell_type": "code",
   "execution_count": null,
   "id": "3b39e98d",
   "metadata": {},
   "outputs": [],
   "source": [
    "print_groups(g)"
   ]
  },
  {
   "cell_type": "code",
   "execution_count": null,
   "id": "fcf66d68",
   "metadata": {},
   "outputs": [],
   "source": [
    "g.mean()"
   ]
  },
  {
   "cell_type": "code",
   "execution_count": null,
   "id": "40fe227d",
   "metadata": {},
   "outputs": [],
   "source": [
    "g.apply(lambda x: x.mean())"
   ]
  },
  {
   "cell_type": "code",
   "execution_count": null,
   "id": "06914063",
   "metadata": {},
   "outputs": [],
   "source": [
    "g.apply(lambda x: np.mean(x))"
   ]
  },
  {
   "cell_type": "markdown",
   "id": "39cca56f",
   "metadata": {},
   "source": [
    "-----------"
   ]
  },
  {
   "cell_type": "code",
   "execution_count": null,
   "id": "ce6a23e9",
   "metadata": {},
   "outputs": [],
   "source": [
    "df"
   ]
  },
  {
   "cell_type": "code",
   "execution_count": null,
   "id": "ec27093e",
   "metadata": {},
   "outputs": [],
   "source": [
    "g = df.groupby('key')['value']\n",
    "print_groups(g)"
   ]
  },
  {
   "cell_type": "code",
   "execution_count": null,
   "id": "c7a88591",
   "metadata": {},
   "outputs": [],
   "source": [
    "# 注意 GroupBy 物件的 .transform() 方法的效果\n",
    "# 可以產生一個常數，用於廣播到所有分組\n",
    "# 可以產生跟輸入分組一樣大小的一個物件\n",
    "# 它的輸入不能是 mutate 類型\n",
    "g.transform(lambda x: x.mean())"
   ]
  },
  {
   "cell_type": "code",
   "execution_count": null,
   "id": "f892b656",
   "metadata": {},
   "outputs": [],
   "source": [
    "g.transform('mean')"
   ]
  },
  {
   "cell_type": "markdown",
   "id": "a1a84c64",
   "metadata": {},
   "source": [
    "---------------"
   ]
  },
  {
   "cell_type": "code",
   "execution_count": null,
   "id": "ab1adb30",
   "metadata": {},
   "outputs": [],
   "source": [
    "df"
   ]
  },
  {
   "cell_type": "code",
   "execution_count": null,
   "id": "ff13b4fa",
   "metadata": {},
   "outputs": [],
   "source": [
    "g = df.groupby('key')['value']\n",
    "print_groups(g)"
   ]
  },
  {
   "cell_type": "code",
   "execution_count": null,
   "id": "179409e3",
   "metadata": {
    "scrolled": true
   },
   "outputs": [],
   "source": [
    "# 這時跟用 .apply() 方法同效果\n",
    "g.transform(lambda x: x*2)"
   ]
  },
  {
   "cell_type": "code",
   "execution_count": null,
   "id": "8af4b5c0",
   "metadata": {},
   "outputs": [],
   "source": [
    "g.apply(lambda x: x*2)"
   ]
  },
  {
   "cell_type": "code",
   "execution_count": null,
   "id": "9f429baf",
   "metadata": {},
   "outputs": [],
   "source": [
    "g.transform(lambda x: x.rank(ascending = False))"
   ]
  },
  {
   "cell_type": "markdown",
   "id": "0942fa0c",
   "metadata": {},
   "source": [
    "--------------"
   ]
  },
  {
   "cell_type": "code",
   "execution_count": null,
   "id": "657cb5b7",
   "metadata": {},
   "outputs": [],
   "source": [
    "df"
   ]
  },
  {
   "cell_type": "code",
   "execution_count": null,
   "id": "8a8b5c0d",
   "metadata": {},
   "outputs": [],
   "source": [
    "g = df.groupby('key')['value']\n",
    "print_groups(g)"
   ]
  },
  {
   "cell_type": "raw",
   "id": "7afe1422",
   "metadata": {},
   "source": [
    "# 目標對每一組做標準化，也就是減去平均值再除以標準差\n",
    "# 這樣每一組的平均值都是 0 ，標準差都是 1。好判斷也利於分析"
   ]
  },
  {
   "cell_type": "code",
   "execution_count": null,
   "id": "8e76a3a9",
   "metadata": {},
   "outputs": [],
   "source": [
    "def normailze(x):\n",
    "    return (x - x.mean())/x.std()"
   ]
  },
  {
   "cell_type": "code",
   "execution_count": null,
   "id": "1f4768ea",
   "metadata": {},
   "outputs": [],
   "source": [
    "# 沒有聚合效果，所以跟 .apply() 產生同一的結果\n",
    "g.transform(normailze)"
   ]
  },
  {
   "cell_type": "code",
   "execution_count": null,
   "id": "bf3401e4",
   "metadata": {},
   "outputs": [],
   "source": [
    "g.apply(normailze)"
   ]
  },
  {
   "cell_type": "markdown",
   "id": "9115a302",
   "metadata": {},
   "source": [
    "---"
   ]
  },
  {
   "cell_type": "raw",
   "id": "b46d52bb",
   "metadata": {},
   "source": [
    "# 剛剛結果的另一種寫法"
   ]
  },
  {
   "cell_type": "code",
   "execution_count": null,
   "id": "b47c1105",
   "metadata": {},
   "outputs": [],
   "source": [
    "df"
   ]
  },
  {
   "cell_type": "code",
   "execution_count": null,
   "id": "a895a42a",
   "metadata": {},
   "outputs": [],
   "source": [
    "g = df.groupby('key')['value']\n",
    "print_groups(g)"
   ]
  },
  {
   "cell_type": "code",
   "execution_count": null,
   "id": "8e63ead1",
   "metadata": {},
   "outputs": [],
   "source": [
    "g.transform('mean')"
   ]
  },
  {
   "cell_type": "code",
   "execution_count": null,
   "id": "f55443d8",
   "metadata": {},
   "outputs": [],
   "source": [
    "g.transform('std')"
   ]
  },
  {
   "cell_type": "code",
   "execution_count": null,
   "id": "17b60f5f",
   "metadata": {},
   "outputs": [],
   "source": [
    "#　這種方法叫做未包裝分組 (unwrapped)\n",
    "(df['value'] - g.transform('mean'))/g.transform('std')"
   ]
  },
  {
   "cell_type": "markdown",
   "id": "322ec102",
   "metadata": {},
   "source": [
    "-------------"
   ]
  },
  {
   "cell_type": "code",
   "execution_count": 10,
   "id": "d04b86f1",
   "metadata": {},
   "outputs": [
    {
     "data": {
      "text/html": [
       "<div>\n",
       "<style scoped>\n",
       "    .dataframe tbody tr th:only-of-type {\n",
       "        vertical-align: middle;\n",
       "    }\n",
       "\n",
       "    .dataframe tbody tr th {\n",
       "        vertical-align: top;\n",
       "    }\n",
       "\n",
       "    .dataframe thead th {\n",
       "        text-align: right;\n",
       "    }\n",
       "</style>\n",
       "<table border=\"1\" class=\"dataframe\">\n",
       "  <thead>\n",
       "    <tr style=\"text-align: right;\">\n",
       "      <th></th>\n",
       "      <th>Label</th>\n",
       "      <th>Values</th>\n",
       "      <th>Values2</th>\n",
       "      <th>Other</th>\n",
       "    </tr>\n",
       "  </thead>\n",
       "  <tbody>\n",
       "    <tr>\n",
       "      <th>V</th>\n",
       "      <td>A</td>\n",
       "      <td>0</td>\n",
       "      <td>5</td>\n",
       "      <td>foo</td>\n",
       "    </tr>\n",
       "    <tr>\n",
       "      <th>W</th>\n",
       "      <td>C</td>\n",
       "      <td>1</td>\n",
       "      <td>6</td>\n",
       "      <td>bar</td>\n",
       "    </tr>\n",
       "    <tr>\n",
       "      <th>X</th>\n",
       "      <td>B</td>\n",
       "      <td>2</td>\n",
       "      <td>7</td>\n",
       "      <td>baz</td>\n",
       "    </tr>\n",
       "    <tr>\n",
       "      <th>Y</th>\n",
       "      <td>A</td>\n",
       "      <td>3</td>\n",
       "      <td>8</td>\n",
       "      <td>fiz</td>\n",
       "    </tr>\n",
       "    <tr>\n",
       "      <th>Z</th>\n",
       "      <td>C</td>\n",
       "      <td>4</td>\n",
       "      <td>9</td>\n",
       "      <td>buz</td>\n",
       "    </tr>\n",
       "  </tbody>\n",
       "</table>\n",
       "</div>"
      ],
      "text/plain": [
       "  Label  Values  Values2 Other\n",
       "V     A       0        5   foo\n",
       "W     C       1        6   bar\n",
       "X     B       2        7   baz\n",
       "Y     A       3        8   fiz\n",
       "Z     C       4        9   buz"
      ]
     },
     "execution_count": 10,
     "metadata": {},
     "output_type": "execute_result"
    }
   ],
   "source": [
    "transform_data = pd.DataFrame({ 'Label': ['A', 'C', 'B', 'A', 'C'],\n",
    "                                'Values': [0, 1, 2, 3, 4],\n",
    "                                'Values2': [5, 6, 7, 8, 9],\n",
    "                                'Other': ['foo', 'bar', 'baz', \n",
    "                                          'fiz', 'buz']},\n",
    "                              index = list('VWXYZ'))\n",
    "transform_data"
   ]
  },
  {
   "cell_type": "code",
   "execution_count": null,
   "id": "30daf2b7",
   "metadata": {},
   "outputs": [],
   "source": [
    "grouped_by_label = transform_data.groupby('Label')\n",
    "print_groups(grouped_by_label)"
   ]
  },
  {
   "cell_type": "code",
   "execution_count": null,
   "id": "a8856f89",
   "metadata": {},
   "outputs": [],
   "source": [
    "grouped_by_label[['Values', 'Values2']].transform(lambda x: x + 10)"
   ]
  },
  {
   "cell_type": "markdown",
   "id": "894b8ae2",
   "metadata": {},
   "source": [
    "---"
   ]
  },
  {
   "cell_type": "code",
   "execution_count": 11,
   "id": "61ddef7b",
   "metadata": {},
   "outputs": [
    {
     "data": {
      "text/html": [
       "<div>\n",
       "<style scoped>\n",
       "    .dataframe tbody tr th:only-of-type {\n",
       "        vertical-align: middle;\n",
       "    }\n",
       "\n",
       "    .dataframe tbody tr th {\n",
       "        vertical-align: top;\n",
       "    }\n",
       "\n",
       "    .dataframe thead th {\n",
       "        text-align: right;\n",
       "    }\n",
       "</style>\n",
       "<table border=\"1\" class=\"dataframe\">\n",
       "  <thead>\n",
       "    <tr style=\"text-align: right;\">\n",
       "      <th></th>\n",
       "      <th>Label</th>\n",
       "      <th>Values</th>\n",
       "    </tr>\n",
       "  </thead>\n",
       "  <tbody>\n",
       "    <tr>\n",
       "      <th>0</th>\n",
       "      <td>A</td>\n",
       "      <td>10.0</td>\n",
       "    </tr>\n",
       "    <tr>\n",
       "      <th>1</th>\n",
       "      <td>B</td>\n",
       "      <td>20.0</td>\n",
       "    </tr>\n",
       "    <tr>\n",
       "      <th>2</th>\n",
       "      <td>A</td>\n",
       "      <td>11.0</td>\n",
       "    </tr>\n",
       "    <tr>\n",
       "      <th>3</th>\n",
       "      <td>B</td>\n",
       "      <td>NaN</td>\n",
       "    </tr>\n",
       "    <tr>\n",
       "      <th>4</th>\n",
       "      <td>A</td>\n",
       "      <td>12.0</td>\n",
       "    </tr>\n",
       "    <tr>\n",
       "      <th>5</th>\n",
       "      <td>B</td>\n",
       "      <td>22.0</td>\n",
       "    </tr>\n",
       "  </tbody>\n",
       "</table>\n",
       "</div>"
      ],
      "text/plain": [
       "  Label  Values\n",
       "0     A    10.0\n",
       "1     B    20.0\n",
       "2     A    11.0\n",
       "3     B     NaN\n",
       "4     A    12.0\n",
       "5     B    22.0"
      ]
     },
     "execution_count": 11,
     "metadata": {},
     "output_type": "execute_result"
    }
   ],
   "source": [
    "df = pd.DataFrame({ 'Label': list(\"ABABAB\"),\n",
    "                    'Values': [10, 20, 11, np.nan, 12, 22]})\n",
    "df"
   ]
  },
  {
   "cell_type": "code",
   "execution_count": null,
   "id": "072bf2da",
   "metadata": {},
   "outputs": [],
   "source": [
    "grouped = df.groupby('Label')\n",
    "print_groups(grouped)"
   ]
  },
  {
   "cell_type": "code",
   "execution_count": null,
   "id": "af39aac2",
   "metadata": {},
   "outputs": [],
   "source": [
    "grouped.mean()"
   ]
  },
  {
   "cell_type": "code",
   "execution_count": null,
   "id": "87d31158",
   "metadata": {},
   "outputs": [],
   "source": [
    "# 遺失值按照分組的平均值來填\n",
    "filled_NaNs = grouped.transform(lambda x: x.fillna(x.mean()))\n",
    "filled_NaNs"
   ]
  },
  {
   "cell_type": "markdown",
   "id": "4c7e522d",
   "metadata": {},
   "source": [
    "---"
   ]
  },
  {
   "cell_type": "code",
   "execution_count": 12,
   "id": "91349803",
   "metadata": {},
   "outputs": [
    {
     "data": {
      "text/plain": [
       "2013-01-01    1.438225\n",
       "2013-01-02   -0.065727\n",
       "2013-01-03   -2.518117\n",
       "2013-01-04   -1.771265\n",
       "2013-01-05    2.924224\n",
       "                ...   \n",
       "2015-12-27   -0.276625\n",
       "2015-12-28    0.259735\n",
       "2015-12-29    1.404361\n",
       "2015-12-30   -0.106687\n",
       "2015-12-31    1.796756\n",
       "Freq: D, Length: 1095, dtype: float64"
      ]
     },
     "execution_count": 12,
     "metadata": {},
     "output_type": "execute_result"
    }
   ],
   "source": [
    "# 從平均值 0.5，標準差 2 的常態分佈選出 365*3 個數\n",
    "np.random.seed(123456)\n",
    "data = pd.Series(np.random.normal(0.5, 2, 365*3), \n",
    "                 index = pd.date_range('2013-01-01', periods = 365*3))\n",
    "data"
   ]
  },
  {
   "cell_type": "code",
   "execution_count": 14,
   "id": "9658ec05",
   "metadata": {},
   "outputs": [
    {
     "data": {
      "text/plain": [
       "2013-01-01         NaN\n",
       "2013-01-02         NaN\n",
       "2013-01-03         NaN\n",
       "2013-01-04         NaN\n",
       "2013-01-05         NaN\n",
       "                ...   \n",
       "2015-12-27    0.811402\n",
       "2015-12-28    0.835961\n",
       "2015-12-29    0.850998\n",
       "2015-12-30    0.842293\n",
       "2015-12-31    0.848419\n",
       "Freq: D, Length: 1095, dtype: float64"
      ]
     },
     "execution_count": 14,
     "metadata": {},
     "output_type": "execute_result"
    }
   ],
   "source": [
    "# window: 窗要多大\n",
    "# min_periods: 窗裡面最少有幾個值就算出結果\n",
    "periods = 100\n",
    "data.rolling(window = periods, min_periods = periods).mean()"
   ]
  },
  {
   "cell_type": "code",
   "execution_count": 15,
   "id": "51275790",
   "metadata": {},
   "outputs": [
    {
     "data": {
      "text/plain": [
       "2013-04-10    0.073603\n",
       "2013-04-11    0.057313\n",
       "2013-04-12    0.089255\n",
       "2013-04-13    0.133248\n",
       "2013-04-14    0.175876\n",
       "                ...   \n",
       "2015-12-27    0.811402\n",
       "2015-12-28    0.835961\n",
       "2015-12-29    0.850998\n",
       "2015-12-30    0.842293\n",
       "2015-12-31    0.848419\n",
       "Freq: D, Length: 996, dtype: float64"
      ]
     },
     "execution_count": 15,
     "metadata": {},
     "output_type": "execute_result"
    }
   ],
   "source": [
    "periods = 100\n",
    "rolling = data.rolling(window = periods, min_periods = periods).mean().dropna()\n",
    "rolling"
   ]
  },
  {
   "cell_type": "code",
   "execution_count": 16,
   "id": "c847ac16",
   "metadata": {},
   "outputs": [
    {
     "data": {
      "image/png": "[encoded data removed]",
      "text/plain": [
       "<Figure size 432x288 with 1 Axes>"
      ]
     },
     "metadata": {
      "needs_background": "light"
     },
     "output_type": "display_data"
    }
   ],
   "source": [
    "rolling.plot(); # 之後會有專門的章節介紹"
   ]
  },
  {
   "cell_type": "markdown",
   "id": "fa9fbd0c",
   "metadata": {},
   "source": [
    "--------------"
   ]
  },
  {
   "cell_type": "raw",
   "id": "dfeb4a24",
   "metadata": {},
   "source": [
    "# 目標想對 rolling 這個序列依照年份算出他們的平均值與標準差"
   ]
  },
  {
   "cell_type": "code",
   "execution_count": 17,
   "id": "b2aaefd8",
   "metadata": {},
   "outputs": [
    {
     "data": {
      "text/plain": [
       "2013-04-10    0.073603\n",
       "2013-04-11    0.057313\n",
       "2013-04-12    0.089255\n",
       "2013-04-13    0.133248\n",
       "2013-04-14    0.175876\n",
       "                ...   \n",
       "2015-12-27    0.811402\n",
       "2015-12-28    0.835961\n",
       "2015-12-29    0.850998\n",
       "2015-12-30    0.842293\n",
       "2015-12-31    0.848419\n",
       "Freq: D, Length: 996, dtype: float64"
      ]
     },
     "execution_count": 17,
     "metadata": {},
     "output_type": "execute_result"
    }
   ],
   "source": [
    "rolling"
   ]
  },
  {
   "cell_type": "code",
   "execution_count": 19,
   "id": "17c955b8",
   "metadata": {},
   "outputs": [
    {
     "name": "stdout",
     "output_type": "stream",
     "text": [
      "2013\n",
      "2013-04-10    0.073603\n",
      "2013-04-11    0.057313\n",
      "2013-04-12    0.089255\n",
      "2013-04-13    0.133248\n",
      "2013-04-14    0.175876\n",
      "Freq: D, dtype: float64\n",
      "2014\n",
      "2014-01-01    0.117808\n",
      "2014-01-02    0.094268\n",
      "2014-01-03    0.095311\n",
      "2014-01-04    0.109263\n",
      "2014-01-05    0.154128\n",
      "Freq: D, dtype: float64\n",
      "2015\n",
      "2015-01-01    0.422732\n",
      "2015-01-02    0.419439\n",
      "2015-01-03    0.365094\n",
      "2015-01-04    0.383965\n",
      "2015-01-05    0.363668\n",
      "Freq: D, dtype: float64\n"
     ]
    }
   ],
   "source": [
    "# 注意現在的索引標籤是 datetime 資料型態\n",
    "group_key = lambda x: x.year\n",
    "groups = rolling.groupby(group_key) # 別忘了 .groupby() 方法也可帶入函式，會作用在每個索引標籤上\n",
    "print_groups(groups)"
   ]
  },
  {
   "cell_type": "code",
   "execution_count": 20,
   "id": "e527e547",
   "metadata": {},
   "outputs": [
    {
     "data": {
      "text/html": [
       "<div>\n",
       "<style scoped>\n",
       "    .dataframe tbody tr th:only-of-type {\n",
       "        vertical-align: middle;\n",
       "    }\n",
       "\n",
       "    .dataframe tbody tr th {\n",
       "        vertical-align: top;\n",
       "    }\n",
       "\n",
       "    .dataframe thead th {\n",
       "        text-align: right;\n",
       "    }\n",
       "</style>\n",
       "<table border=\"1\" class=\"dataframe\">\n",
       "  <thead>\n",
       "    <tr style=\"text-align: right;\">\n",
       "      <th></th>\n",
       "      <th>mean</th>\n",
       "      <th>std</th>\n",
       "    </tr>\n",
       "  </thead>\n",
       "  <tbody>\n",
       "    <tr>\n",
       "      <th>2013</th>\n",
       "      <td>0.454233</td>\n",
       "      <td>0.171988</td>\n",
       "    </tr>\n",
       "    <tr>\n",
       "      <th>2014</th>\n",
       "      <td>0.286502</td>\n",
       "      <td>0.182040</td>\n",
       "    </tr>\n",
       "    <tr>\n",
       "      <th>2015</th>\n",
       "      <td>0.599447</td>\n",
       "      <td>0.275786</td>\n",
       "    </tr>\n",
       "  </tbody>\n",
       "</table>\n",
       "</div>"
      ],
      "text/plain": [
       "          mean       std\n",
       "2013  0.454233  0.171988\n",
       "2014  0.286502  0.182040\n",
       "2015  0.599447  0.275786"
      ]
     },
     "execution_count": 20,
     "metadata": {},
     "output_type": "execute_result"
    }
   ],
   "source": [
    "groups.agg([np.mean, np.std])"
   ]
  },
  {
   "cell_type": "markdown",
   "id": "a450215f",
   "metadata": {},
   "source": [
    "---------"
   ]
  },
  {
   "cell_type": "raw",
   "id": "e277160e",
   "metadata": {},
   "source": [
    "# 目標對每一組做標準化，也就是減去平均值再除以標準差\n",
    "# 這樣每一組的平均值都是 0 ，標準差都是 1。好判斷也利於分析"
   ]
  },
  {
   "cell_type": "code",
   "execution_count": 21,
   "id": "711a720b",
   "metadata": {},
   "outputs": [
    {
     "name": "stdout",
     "output_type": "stream",
     "text": [
      "2013\n",
      "2013-04-10    0.073603\n",
      "2013-04-11    0.057313\n",
      "2013-04-12    0.089255\n",
      "2013-04-13    0.133248\n",
      "2013-04-14    0.175876\n",
      "Freq: D, dtype: float64\n",
      "2014\n",
      "2014-01-01    0.117808\n",
      "2014-01-02    0.094268\n",
      "2014-01-03    0.095311\n",
      "2014-01-04    0.109263\n",
      "2014-01-05    0.154128\n",
      "Freq: D, dtype: float64\n",
      "2015\n",
      "2015-01-01    0.422732\n",
      "2015-01-02    0.419439\n",
      "2015-01-03    0.365094\n",
      "2015-01-04    0.383965\n",
      "2015-01-05    0.363668\n",
      "Freq: D, dtype: float64\n"
     ]
    }
   ],
   "source": [
    "print_groups(rolling.groupby(group_key))"
   ]
  },
  {
   "cell_type": "code",
   "execution_count": 22,
   "id": "bc405347",
   "metadata": {},
   "outputs": [
    {
     "data": {
      "text/plain": [
       "2013-04-10   -2.213125\n",
       "2013-04-11   -2.307837\n",
       "2013-04-12   -2.122115\n",
       "2013-04-13   -1.866325\n",
       "2013-04-14   -1.618471\n",
       "                ...   \n",
       "2015-12-27    0.768548\n",
       "2015-12-28    0.857598\n",
       "2015-12-29    0.912124\n",
       "2015-12-30    0.880561\n",
       "2015-12-31    0.902772\n",
       "Freq: D, Length: 996, dtype: float64"
      ]
     },
     "execution_count": 22,
     "metadata": {},
     "output_type": "execute_result"
    }
   ],
   "source": [
    "zscore = lambda x: (x - x.mean())/x.std()\n",
    "normed = rolling.groupby(group_key).transform(zscore)\n",
    "normed"
   ]
  },
  {
   "cell_type": "code",
   "execution_count": 23,
   "id": "1018211b",
   "metadata": {},
   "outputs": [
    {
     "data": {
      "text/html": [
       "<div>\n",
       "<style scoped>\n",
       "    .dataframe tbody tr th:only-of-type {\n",
       "        vertical-align: middle;\n",
       "    }\n",
       "\n",
       "    .dataframe tbody tr th {\n",
       "        vertical-align: top;\n",
       "    }\n",
       "\n",
       "    .dataframe thead th {\n",
       "        text-align: right;\n",
       "    }\n",
       "</style>\n",
       "<table border=\"1\" class=\"dataframe\">\n",
       "  <thead>\n",
       "    <tr style=\"text-align: right;\">\n",
       "      <th></th>\n",
       "      <th>mean</th>\n",
       "      <th>std</th>\n",
       "    </tr>\n",
       "  </thead>\n",
       "  <tbody>\n",
       "    <tr>\n",
       "      <th>2013</th>\n",
       "      <td>5.292341e-16</td>\n",
       "      <td>1.0</td>\n",
       "    </tr>\n",
       "    <tr>\n",
       "      <th>2014</th>\n",
       "      <td>-1.022014e-16</td>\n",
       "      <td>1.0</td>\n",
       "    </tr>\n",
       "    <tr>\n",
       "      <th>2015</th>\n",
       "      <td>2.281280e-16</td>\n",
       "      <td>1.0</td>\n",
       "    </tr>\n",
       "  </tbody>\n",
       "</table>\n",
       "</div>"
      ],
      "text/plain": [
       "              mean  std\n",
       "2013  5.292341e-16  1.0\n",
       "2014 -1.022014e-16  1.0\n",
       "2015  2.281280e-16  1.0"
      ]
     },
     "execution_count": 23,
     "metadata": {},
     "output_type": "execute_result"
    }
   ],
   "source": [
    "normed.groupby(group_key).agg([np.mean, np.std])"
   ]
  },
  {
   "cell_type": "markdown",
   "id": "5ed90faf",
   "metadata": {},
   "source": [
    "------------"
   ]
  },
  {
   "cell_type": "code",
   "execution_count": 24,
   "id": "bfd1e5e8",
   "metadata": {},
   "outputs": [
    {
     "data": {
      "text/html": [
       "<div>\n",
       "<style scoped>\n",
       "    .dataframe tbody tr th:only-of-type {\n",
       "        vertical-align: middle;\n",
       "    }\n",
       "\n",
       "    .dataframe tbody tr th {\n",
       "        vertical-align: top;\n",
       "    }\n",
       "\n",
       "    .dataframe thead th {\n",
       "        text-align: right;\n",
       "    }\n",
       "</style>\n",
       "<table border=\"1\" class=\"dataframe\">\n",
       "  <thead>\n",
       "    <tr style=\"text-align: right;\">\n",
       "      <th></th>\n",
       "      <th>Original</th>\n",
       "      <th>Normed</th>\n",
       "    </tr>\n",
       "  </thead>\n",
       "  <tbody>\n",
       "    <tr>\n",
       "      <th>2013-04-10</th>\n",
       "      <td>0.073603</td>\n",
       "      <td>-2.213125</td>\n",
       "    </tr>\n",
       "    <tr>\n",
       "      <th>2013-04-11</th>\n",
       "      <td>0.057313</td>\n",
       "      <td>-2.307837</td>\n",
       "    </tr>\n",
       "    <tr>\n",
       "      <th>2013-04-12</th>\n",
       "      <td>0.089255</td>\n",
       "      <td>-2.122115</td>\n",
       "    </tr>\n",
       "    <tr>\n",
       "      <th>2013-04-13</th>\n",
       "      <td>0.133248</td>\n",
       "      <td>-1.866325</td>\n",
       "    </tr>\n",
       "    <tr>\n",
       "      <th>2013-04-14</th>\n",
       "      <td>0.175876</td>\n",
       "      <td>-1.618471</td>\n",
       "    </tr>\n",
       "    <tr>\n",
       "      <th>...</th>\n",
       "      <td>...</td>\n",
       "      <td>...</td>\n",
       "    </tr>\n",
       "    <tr>\n",
       "      <th>2015-12-27</th>\n",
       "      <td>0.811402</td>\n",
       "      <td>0.768548</td>\n",
       "    </tr>\n",
       "    <tr>\n",
       "      <th>2015-12-28</th>\n",
       "      <td>0.835961</td>\n",
       "      <td>0.857598</td>\n",
       "    </tr>\n",
       "    <tr>\n",
       "      <th>2015-12-29</th>\n",
       "      <td>0.850998</td>\n",
       "      <td>0.912124</td>\n",
       "    </tr>\n",
       "    <tr>\n",
       "      <th>2015-12-30</th>\n",
       "      <td>0.842293</td>\n",
       "      <td>0.880561</td>\n",
       "    </tr>\n",
       "    <tr>\n",
       "      <th>2015-12-31</th>\n",
       "      <td>0.848419</td>\n",
       "      <td>0.902772</td>\n",
       "    </tr>\n",
       "  </tbody>\n",
       "</table>\n",
       "<p>996 rows × 2 columns</p>\n",
       "</div>"
      ],
      "text/plain": [
       "            Original    Normed\n",
       "2013-04-10  0.073603 -2.213125\n",
       "2013-04-11  0.057313 -2.307837\n",
       "2013-04-12  0.089255 -2.122115\n",
       "2013-04-13  0.133248 -1.866325\n",
       "2013-04-14  0.175876 -1.618471\n",
       "...              ...       ...\n",
       "2015-12-27  0.811402  0.768548\n",
       "2015-12-28  0.835961  0.857598\n",
       "2015-12-29  0.850998  0.912124\n",
       "2015-12-30  0.842293  0.880561\n",
       "2015-12-31  0.848419  0.902772\n",
       "\n",
       "[996 rows x 2 columns]"
      ]
     },
     "execution_count": 24,
     "metadata": {},
     "output_type": "execute_result"
    }
   ],
   "source": [
    "compared = pd.DataFrame({'Original': rolling,\n",
    "                         'Normed': normed})\n",
    "compared"
   ]
  },
  {
   "cell_type": "code",
   "execution_count": 25,
   "id": "321ae621",
   "metadata": {},
   "outputs": [
    {
     "data": {
      "image/png": "[encoded data removed]",
      "text/plain": [
       "<Figure size 432x288 with 1 Axes>"
      ]
     },
     "metadata": {
      "needs_background": "light"
     },
     "output_type": "display_data"
    }
   ],
   "source": [
    "# 標準化完的資料再視覺化，更容易理解也更有利於分析\n",
    "compared.plot();"
   ]
  },
  {
   "cell_type": "markdown",
   "id": "664df1d0",
   "metadata": {},
   "source": [
    "## 過濾分組資料"
   ]
  },
  {
   "cell_type": "code",
   "execution_count": 26,
   "id": "ffcaf761",
   "metadata": {},
   "outputs": [
    {
     "data": {
      "text/html": [
       "<div>\n",
       "<style scoped>\n",
       "    .dataframe tbody tr th:only-of-type {\n",
       "        vertical-align: middle;\n",
       "    }\n",
       "\n",
       "    .dataframe tbody tr th {\n",
       "        vertical-align: top;\n",
       "    }\n",
       "\n",
       "    .dataframe thead th {\n",
       "        text-align: right;\n",
       "    }\n",
       "</style>\n",
       "<table border=\"1\" class=\"dataframe\">\n",
       "  <thead>\n",
       "    <tr style=\"text-align: right;\">\n",
       "      <th></th>\n",
       "      <th>Label</th>\n",
       "      <th>Values</th>\n",
       "    </tr>\n",
       "  </thead>\n",
       "  <tbody>\n",
       "    <tr>\n",
       "      <th>0</th>\n",
       "      <td>A</td>\n",
       "      <td>1.0</td>\n",
       "    </tr>\n",
       "    <tr>\n",
       "      <th>1</th>\n",
       "      <td>A</td>\n",
       "      <td>2.0</td>\n",
       "    </tr>\n",
       "    <tr>\n",
       "      <th>2</th>\n",
       "      <td>B</td>\n",
       "      <td>3.0</td>\n",
       "    </tr>\n",
       "    <tr>\n",
       "      <th>3</th>\n",
       "      <td>C</td>\n",
       "      <td>4.0</td>\n",
       "    </tr>\n",
       "    <tr>\n",
       "      <th>4</th>\n",
       "      <td>C</td>\n",
       "      <td>NaN</td>\n",
       "    </tr>\n",
       "    <tr>\n",
       "      <th>5</th>\n",
       "      <td>C</td>\n",
       "      <td>8.0</td>\n",
       "    </tr>\n",
       "  </tbody>\n",
       "</table>\n",
       "</div>"
      ],
      "text/plain": [
       "  Label  Values\n",
       "0     A     1.0\n",
       "1     A     2.0\n",
       "2     B     3.0\n",
       "3     C     4.0\n",
       "4     C     NaN\n",
       "5     C     8.0"
      ]
     },
     "execution_count": 26,
     "metadata": {},
     "output_type": "execute_result"
    }
   ],
   "source": [
    "import pandas as pd\n",
    "import numpy as np\n",
    "\n",
    "df = pd.DataFrame({'Label': list('AABCCC'),\n",
    "                   'Values': [1, 2, 3, 4, np.nan, 8]})\n",
    "df"
   ]
  },
  {
   "cell_type": "code",
   "execution_count": 27,
   "id": "7124b8fc",
   "metadata": {},
   "outputs": [
    {
     "name": "stdout",
     "output_type": "stream",
     "text": [
      "A\n",
      "  Label  Values\n",
      "0     A     1.0\n",
      "1     A     2.0\n",
      "B\n",
      "  Label  Values\n",
      "2     B     3.0\n",
      "C\n",
      "  Label  Values\n",
      "3     C     4.0\n",
      "4     C     NaN\n",
      "5     C     8.0\n"
     ]
    }
   ],
   "source": [
    "print_groups(df.groupby('Label'))"
   ]
  },
  {
   "cell_type": "code",
   "execution_count": 28,
   "id": "2458faf9",
   "metadata": {},
   "outputs": [
    {
     "data": {
      "text/html": [
       "<div>\n",
       "<style scoped>\n",
       "    .dataframe tbody tr th:only-of-type {\n",
       "        vertical-align: middle;\n",
       "    }\n",
       "\n",
       "    .dataframe tbody tr th {\n",
       "        vertical-align: top;\n",
       "    }\n",
       "\n",
       "    .dataframe thead th {\n",
       "        text-align: right;\n",
       "    }\n",
       "</style>\n",
       "<table border=\"1\" class=\"dataframe\">\n",
       "  <thead>\n",
       "    <tr style=\"text-align: right;\">\n",
       "      <th></th>\n",
       "      <th>Label</th>\n",
       "      <th>Values</th>\n",
       "    </tr>\n",
       "  </thead>\n",
       "  <tbody>\n",
       "    <tr>\n",
       "      <th>0</th>\n",
       "      <td>A</td>\n",
       "      <td>1.0</td>\n",
       "    </tr>\n",
       "    <tr>\n",
       "      <th>1</th>\n",
       "      <td>A</td>\n",
       "      <td>2.0</td>\n",
       "    </tr>\n",
       "    <tr>\n",
       "      <th>3</th>\n",
       "      <td>C</td>\n",
       "      <td>4.0</td>\n",
       "    </tr>\n",
       "    <tr>\n",
       "      <th>4</th>\n",
       "      <td>C</td>\n",
       "      <td>NaN</td>\n",
       "    </tr>\n",
       "    <tr>\n",
       "      <th>5</th>\n",
       "      <td>C</td>\n",
       "      <td>8.0</td>\n",
       "    </tr>\n",
       "  </tbody>\n",
       "</table>\n",
       "</div>"
      ],
      "text/plain": [
       "  Label  Values\n",
       "0     A     1.0\n",
       "1     A     2.0\n",
       "3     C     4.0\n",
       "4     C     NaN\n",
       "5     C     8.0"
      ]
     },
     "execution_count": 28,
     "metadata": {},
     "output_type": "execute_result"
    }
   ],
   "source": [
    "# GroupBy 物件的 .filter() 方法裡面放函式，函式返回的是布林值\n",
    "# 把分完組的資料框或序列，一個一個帶入函式，True 的留下來，False 的會被過濾掉，再返回原始資料\n",
    "f = lambda x: x.Values.count() > 1 # 序列的 .count() 方法沒算遺失值\n",
    "df.groupby('Label').filter(f)"
   ]
  },
  {
   "cell_type": "code",
   "execution_count": 29,
   "id": "ffff610c",
   "metadata": {},
   "outputs": [
    {
     "data": {
      "text/html": [
       "<div>\n",
       "<style scoped>\n",
       "    .dataframe tbody tr th:only-of-type {\n",
       "        vertical-align: middle;\n",
       "    }\n",
       "\n",
       "    .dataframe tbody tr th {\n",
       "        vertical-align: top;\n",
       "    }\n",
       "\n",
       "    .dataframe thead th {\n",
       "        text-align: right;\n",
       "    }\n",
       "</style>\n",
       "<table border=\"1\" class=\"dataframe\">\n",
       "  <thead>\n",
       "    <tr style=\"text-align: right;\">\n",
       "      <th></th>\n",
       "      <th>Label</th>\n",
       "      <th>Values</th>\n",
       "    </tr>\n",
       "  </thead>\n",
       "  <tbody>\n",
       "    <tr>\n",
       "      <th>0</th>\n",
       "      <td>A</td>\n",
       "      <td>1.0</td>\n",
       "    </tr>\n",
       "    <tr>\n",
       "      <th>1</th>\n",
       "      <td>A</td>\n",
       "      <td>2.0</td>\n",
       "    </tr>\n",
       "    <tr>\n",
       "      <th>2</th>\n",
       "      <td>B</td>\n",
       "      <td>3.0</td>\n",
       "    </tr>\n",
       "  </tbody>\n",
       "</table>\n",
       "</div>"
      ],
      "text/plain": [
       "  Label  Values\n",
       "0     A     1.0\n",
       "1     A     2.0\n",
       "2     B     3.0"
      ]
     },
     "execution_count": 29,
     "metadata": {},
     "output_type": "execute_result"
    }
   ],
   "source": [
    "# 只要組裡有遺失值，整組就被刪了!\n",
    "f = lambda x: x.Values.isnull().sum() == 0\n",
    "df.groupby('Label').filter(f)"
   ]
  },
  {
   "cell_type": "markdown",
   "id": "54eb69b3",
   "metadata": {},
   "source": [
    "------------"
   ]
  },
  {
   "cell_type": "code",
   "execution_count": 36,
   "id": "69afa861",
   "metadata": {},
   "outputs": [
    {
     "data": {
      "text/html": [
       "<div>\n",
       "<style scoped>\n",
       "    .dataframe tbody tr th:only-of-type {\n",
       "        vertical-align: middle;\n",
       "    }\n",
       "\n",
       "    .dataframe tbody tr th {\n",
       "        vertical-align: top;\n",
       "    }\n",
       "\n",
       "    .dataframe thead th {\n",
       "        text-align: right;\n",
       "    }\n",
       "</style>\n",
       "<table border=\"1\" class=\"dataframe\">\n",
       "  <thead>\n",
       "    <tr style=\"text-align: right;\">\n",
       "      <th></th>\n",
       "      <th>Label</th>\n",
       "      <th>Values</th>\n",
       "    </tr>\n",
       "  </thead>\n",
       "  <tbody>\n",
       "    <tr>\n",
       "      <th>0</th>\n",
       "      <td>A</td>\n",
       "      <td>1.0</td>\n",
       "    </tr>\n",
       "    <tr>\n",
       "      <th>1</th>\n",
       "      <td>A</td>\n",
       "      <td>2.0</td>\n",
       "    </tr>\n",
       "    <tr>\n",
       "      <th>2</th>\n",
       "      <td>B</td>\n",
       "      <td>3.0</td>\n",
       "    </tr>\n",
       "    <tr>\n",
       "      <th>3</th>\n",
       "      <td>C</td>\n",
       "      <td>4.0</td>\n",
       "    </tr>\n",
       "    <tr>\n",
       "      <th>4</th>\n",
       "      <td>C</td>\n",
       "      <td>NaN</td>\n",
       "    </tr>\n",
       "    <tr>\n",
       "      <th>5</th>\n",
       "      <td>C</td>\n",
       "      <td>8.0</td>\n",
       "    </tr>\n",
       "  </tbody>\n",
       "</table>\n",
       "</div>"
      ],
      "text/plain": [
       "  Label  Values\n",
       "0     A     1.0\n",
       "1     A     2.0\n",
       "2     B     3.0\n",
       "3     C     4.0\n",
       "4     C     NaN\n",
       "5     C     8.0"
      ]
     },
     "execution_count": 36,
     "metadata": {},
     "output_type": "execute_result"
    }
   ],
   "source": [
    "df"
   ]
  },
  {
   "cell_type": "code",
   "execution_count": 37,
   "id": "266d010e",
   "metadata": {},
   "outputs": [
    {
     "name": "stdout",
     "output_type": "stream",
     "text": [
      "A\n",
      "  Label  Values\n",
      "0     A     1.0\n",
      "1     A     2.0\n",
      "B\n",
      "  Label  Values\n",
      "2     B     3.0\n",
      "C\n",
      "  Label  Values\n",
      "3     C     4.0\n",
      "4     C     NaN\n",
      "5     C     8.0\n"
     ]
    }
   ],
   "source": [
    "grouped = df.groupby('Label')\n",
    "print_groups(grouped)"
   ]
  },
  {
   "cell_type": "code",
   "execution_count": 38,
   "id": "3dad2c38",
   "metadata": {},
   "outputs": [
    {
     "data": {
      "text/html": [
       "<div>\n",
       "<style scoped>\n",
       "    .dataframe tbody tr th:only-of-type {\n",
       "        vertical-align: middle;\n",
       "    }\n",
       "\n",
       "    .dataframe tbody tr th {\n",
       "        vertical-align: top;\n",
       "    }\n",
       "\n",
       "    .dataframe thead th {\n",
       "        text-align: right;\n",
       "    }\n",
       "</style>\n",
       "<table border=\"1\" class=\"dataframe\">\n",
       "  <thead>\n",
       "    <tr style=\"text-align: right;\">\n",
       "      <th></th>\n",
       "      <th>Values</th>\n",
       "    </tr>\n",
       "    <tr>\n",
       "      <th>Label</th>\n",
       "      <th></th>\n",
       "    </tr>\n",
       "  </thead>\n",
       "  <tbody>\n",
       "    <tr>\n",
       "      <th>A</th>\n",
       "      <td>1.5</td>\n",
       "    </tr>\n",
       "    <tr>\n",
       "      <th>B</th>\n",
       "      <td>3.0</td>\n",
       "    </tr>\n",
       "    <tr>\n",
       "      <th>C</th>\n",
       "      <td>6.0</td>\n",
       "    </tr>\n",
       "  </tbody>\n",
       "</table>\n",
       "</div>"
      ],
      "text/plain": [
       "       Values\n",
       "Label        \n",
       "A         1.5\n",
       "B         3.0\n",
       "C         6.0"
      ]
     },
     "execution_count": 38,
     "metadata": {},
     "output_type": "execute_result"
    }
   ],
   "source": [
    "grouped.mean()"
   ]
  },
  {
   "cell_type": "code",
   "execution_count": 39,
   "id": "4c736f70",
   "metadata": {},
   "outputs": [
    {
     "data": {
      "text/plain": [
       "Values    3.5\n",
       "dtype: float64"
      ]
     },
     "execution_count": 39,
     "metadata": {},
     "output_type": "execute_result"
    }
   ],
   "source": [
    "# 先算出每組的平均，再取平均\n",
    "group_mean = grouped.mean().mean()\n",
    "group_mean"
   ]
  },
  {
   "cell_type": "code",
   "execution_count": 47,
   "id": "44f33b3d",
   "metadata": {},
   "outputs": [
    {
     "data": {
      "text/html": [
       "<div>\n",
       "<style scoped>\n",
       "    .dataframe tbody tr th:only-of-type {\n",
       "        vertical-align: middle;\n",
       "    }\n",
       "\n",
       "    .dataframe tbody tr th {\n",
       "        vertical-align: top;\n",
       "    }\n",
       "\n",
       "    .dataframe thead th {\n",
       "        text-align: right;\n",
       "    }\n",
       "</style>\n",
       "<table border=\"1\" class=\"dataframe\">\n",
       "  <thead>\n",
       "    <tr style=\"text-align: right;\">\n",
       "      <th></th>\n",
       "      <th>Label</th>\n",
       "      <th>Values</th>\n",
       "    </tr>\n",
       "  </thead>\n",
       "  <tbody>\n",
       "    <tr>\n",
       "      <th>3</th>\n",
       "      <td>C</td>\n",
       "      <td>4.0</td>\n",
       "    </tr>\n",
       "    <tr>\n",
       "      <th>4</th>\n",
       "      <td>C</td>\n",
       "      <td>NaN</td>\n",
       "    </tr>\n",
       "    <tr>\n",
       "      <th>5</th>\n",
       "      <td>C</td>\n",
       "      <td>8.0</td>\n",
       "    </tr>\n",
       "  </tbody>\n",
       "</table>\n",
       "</div>"
      ],
      "text/plain": [
       "  Label  Values\n",
       "3     C     4.0\n",
       "4     C     NaN\n",
       "5     C     8.0"
      ]
     },
     "execution_count": 47,
     "metadata": {},
     "output_type": "execute_result"
    }
   ],
   "source": [
    "# 比組的平均差距高過 2 留下，其他全組過濾掉!\n",
    "f = lambda x: abs(x.Values.mean() - group_mean) > 2.0\n",
    "df.groupby('Label').filter(f)"
   ]
  },
  {
   "cell_type": "markdown",
   "id": "06ca7b55",
   "metadata": {},
   "source": [
    "## 綜合應用"
   ]
  },
  {
   "cell_type": "markdown",
   "id": "8370f8b1",
   "metadata": {},
   "source": [
    "### 依分組指定填充遺失值"
   ]
  },
  {
   "cell_type": "code",
   "execution_count": 49,
   "id": "bad1f7bd",
   "metadata": {},
   "outputs": [
    {
     "data": {
      "text/plain": [
       "0         NaN\n",
       "1    1.197946\n",
       "2         NaN\n",
       "3   -0.423806\n",
       "4         NaN\n",
       "5   -0.786641\n",
       "dtype: float64"
      ]
     },
     "execution_count": 49,
     "metadata": {},
     "output_type": "execute_result"
    }
   ],
   "source": [
    "import pandas as pd\n",
    "import numpy as np\n",
    "\n",
    "s = pd.Series(np.random.randn(6))\n",
    "s[::2] = np.nan\n",
    "s"
   ]
  },
  {
   "cell_type": "code",
   "execution_count": 51,
   "id": "f613af1f",
   "metadata": {},
   "outputs": [
    {
     "data": {
      "text/plain": [
       "-0.004167315247527337"
      ]
     },
     "execution_count": 51,
     "metadata": {},
     "output_type": "execute_result"
    }
   ],
   "source": [
    "s.mean()"
   ]
  },
  {
   "cell_type": "code",
   "execution_count": 50,
   "id": "2f8c7cfb",
   "metadata": {},
   "outputs": [
    {
     "data": {
      "text/plain": [
       "0   -0.004167\n",
       "1    1.197946\n",
       "2   -0.004167\n",
       "3   -0.423806\n",
       "4   -0.004167\n",
       "5   -0.786641\n",
       "dtype: float64"
      ]
     },
     "execution_count": 50,
     "metadata": {},
     "output_type": "execute_result"
    }
   ],
   "source": [
    "# 就序列而言，把遺失值填入平均值還蠻常見\n",
    "s.fillna(s.mean())"
   ]
  },
  {
   "cell_type": "markdown",
   "id": "256484c9",
   "metadata": {},
   "source": [
    "---"
   ]
  },
  {
   "cell_type": "raw",
   "id": "40aef961",
   "metadata": {},
   "source": [
    "# 如果有更多資訊，可以考慮分完組後再把遺失值填入平均"
   ]
  },
  {
   "cell_type": "code",
   "execution_count": 52,
   "id": "c562e184",
   "metadata": {},
   "outputs": [
    {
     "data": {
      "text/plain": [
       "Ohio         -0.393609\n",
       "New York     -0.171092\n",
       "Vermont       1.786173\n",
       "Florida      -0.575189\n",
       "Oregon        0.820750\n",
       "Nevada       -1.256530\n",
       "California   -0.642246\n",
       "Idaho         0.236892\n",
       "dtype: float64"
      ]
     },
     "execution_count": 52,
     "metadata": {},
     "output_type": "execute_result"
    }
   ],
   "source": [
    "states = ['Ohio', 'New York', 'Vermont', 'Florida',\n",
    "          'Oregon', 'Nevada', 'California', 'Idaho']\n",
    "group_key = ['East'] * 4 + ['West'] * 4\n",
    "data = pd.Series(np.random.randn(8), index = states)\n",
    "data"
   ]
  },
  {
   "cell_type": "code",
   "execution_count": 53,
   "id": "8d446121",
   "metadata": {},
   "outputs": [
    {
     "data": {
      "text/plain": [
       "['East', 'East', 'East', 'East', 'West', 'West', 'West', 'West']"
      ]
     },
     "execution_count": 53,
     "metadata": {},
     "output_type": "execute_result"
    }
   ],
   "source": [
    "group_key"
   ]
  },
  {
   "cell_type": "code",
   "execution_count": 54,
   "id": "0c7867b3",
   "metadata": {},
   "outputs": [
    {
     "data": {
      "text/plain": [
       "Ohio         -0.393609\n",
       "New York     -0.171092\n",
       "Vermont            NaN\n",
       "Florida      -0.575189\n",
       "Oregon        0.820750\n",
       "Nevada             NaN\n",
       "California   -0.642246\n",
       "Idaho              NaN\n",
       "dtype: float64"
      ]
     },
     "execution_count": 54,
     "metadata": {},
     "output_type": "execute_result"
    }
   ],
   "source": [
    "data[['Vermont', 'Nevada', 'Idaho']] = np.nan\n",
    "data"
   ]
  },
  {
   "cell_type": "code",
   "execution_count": 55,
   "id": "4aff3543",
   "metadata": {},
   "outputs": [
    {
     "name": "stdout",
     "output_type": "stream",
     "text": [
      "East\n",
      "Ohio       -0.393609\n",
      "New York   -0.171092\n",
      "Vermont          NaN\n",
      "Florida    -0.575189\n",
      "dtype: float64\n",
      "West\n",
      "Oregon        0.820750\n",
      "Nevada             NaN\n",
      "California   -0.642246\n",
      "Idaho              NaN\n",
      "dtype: float64\n"
     ]
    }
   ],
   "source": [
    "print_groups(data.groupby(group_key))"
   ]
  },
  {
   "cell_type": "code",
   "execution_count": 56,
   "id": "c5f4d645",
   "metadata": {},
   "outputs": [
    {
     "data": {
      "text/plain": [
       "East   -0.379964\n",
       "West    0.089252\n",
       "dtype: float64"
      ]
     },
     "execution_count": 56,
     "metadata": {},
     "output_type": "execute_result"
    }
   ],
   "source": [
    "data.groupby(group_key).mean()"
   ]
  },
  {
   "cell_type": "code",
   "execution_count": 57,
   "id": "799fe38f",
   "metadata": {},
   "outputs": [
    {
     "data": {
      "text/plain": [
       "Ohio         -0.393609\n",
       "New York     -0.171092\n",
       "Vermont      -0.379964\n",
       "Florida      -0.575189\n",
       "Oregon        0.820750\n",
       "Nevada        0.089252\n",
       "California   -0.642246\n",
       "Idaho         0.089252\n",
       "dtype: float64"
      ]
     },
     "execution_count": 57,
     "metadata": {},
     "output_type": "execute_result"
    }
   ],
   "source": [
    "# 這題用 .transform() 方法會得到一樣的結果\n",
    "fill_mean = lambda g: g.fillna(g.mean())\n",
    "data.groupby(group_key).apply(fill_mean)"
   ]
  },
  {
   "cell_type": "markdown",
   "id": "c8b21b7a",
   "metadata": {},
   "source": [
    "---"
   ]
  },
  {
   "cell_type": "raw",
   "id": "56124812",
   "metadata": {},
   "source": [
    "# 我執意要把東岸的遺失值填入 0.5，西岸的填入 -1 ，應該如何操作"
   ]
  },
  {
   "cell_type": "code",
   "execution_count": 69,
   "id": "9f0ec79c",
   "metadata": {},
   "outputs": [
    {
     "name": "stdout",
     "output_type": "stream",
     "text": [
      "East\n",
      "Ohio             NaN\n",
      "New York   -1.382653\n",
      "Vermont    -0.369422\n",
      "Florida     0.858644\n",
      "dtype: float64\n",
      "West\n",
      "Oregon       -0.851236\n",
      "Nevada             NaN\n",
      "California   -0.080372\n",
      "Idaho              NaN\n",
      "dtype: float64\n"
     ]
    }
   ],
   "source": [
    "print_groups(data.groupby(group_key))"
   ]
  },
  {
   "cell_type": "code",
   "execution_count": 72,
   "id": "d87c6121",
   "metadata": {},
   "outputs": [
    {
     "data": {
      "text/plain": [
       "Ohio          0.500000\n",
       "New York     -1.382653\n",
       "Vermont      -0.369422\n",
       "Florida       0.858644\n",
       "Oregon       -0.851236\n",
       "Nevada       -1.000000\n",
       "California   -0.080372\n",
       "Idaho        -1.000000\n",
       "dtype: float64"
      ]
     },
     "execution_count": 72,
     "metadata": {},
     "output_type": "execute_result"
    }
   ],
   "source": [
    "# 這題用 .transform() 方法會得到一樣的結果\n",
    "fill_values = {'East': 0.5, 'West': -1}\n",
    "fill_func = lambda g: g.fillna(fill_values[g.name])\n",
    "data.groupby(group_key).apply(fill_func)"
   ]
  },
  {
   "cell_type": "markdown",
   "id": "9fcf18c4",
   "metadata": {},
   "source": [
    "### 隨機取樣和排列"
   ]
  },
  {
   "cell_type": "code",
   "execution_count": 73,
   "id": "b98cd3bd",
   "metadata": {},
   "outputs": [
    {
     "data": {
      "text/plain": [
       "['H', 'S', 'C', 'D']"
      ]
     },
     "execution_count": 73,
     "metadata": {},
     "output_type": "execute_result"
    }
   ],
   "source": [
    "# 紅心 (Heart)、黑桃 (Spade)、梅花 (club)、方塊 (Diamond)\n",
    "suits = ['H', 'S', 'C', 'D']\n",
    "card_val = (list(range(1, 11)) + [10]*3)*4\n",
    "base_names = ['A'] + list(range(2, 11)) + ['J', 'Q', 'K']\n",
    "suits"
   ]
  },
  {
   "cell_type": "code",
   "execution_count": 74,
   "id": "6d8cddc8",
   "metadata": {},
   "outputs": [
    {
     "data": {
      "text/plain": [
       "[1,\n",
       " 2,\n",
       " 3,\n",
       " 4,\n",
       " 5,\n",
       " 6,\n",
       " 7,\n",
       " 8,\n",
       " 9,\n",
       " 10,\n",
       " 10,\n",
       " 10,\n",
       " 10,\n",
       " 1,\n",
       " 2,\n",
       " 3,\n",
       " 4,\n",
       " 5,\n",
       " 6,\n",
       " 7,\n",
       " 8,\n",
       " 9,\n",
       " 10,\n",
       " 10,\n",
       " 10,\n",
       " 10,\n",
       " 1,\n",
       " 2,\n",
       " 3,\n",
       " 4,\n",
       " 5,\n",
       " 6,\n",
       " 7,\n",
       " 8,\n",
       " 9,\n",
       " 10,\n",
       " 10,\n",
       " 10,\n",
       " 10,\n",
       " 1,\n",
       " 2,\n",
       " 3,\n",
       " 4,\n",
       " 5,\n",
       " 6,\n",
       " 7,\n",
       " 8,\n",
       " 9,\n",
       " 10,\n",
       " 10,\n",
       " 10,\n",
       " 10]"
      ]
     },
     "execution_count": 74,
     "metadata": {},
     "output_type": "execute_result"
    }
   ],
   "source": [
    "card_val"
   ]
  },
  {
   "cell_type": "code",
   "execution_count": 75,
   "id": "404a02a6",
   "metadata": {},
   "outputs": [
    {
     "data": {
      "text/plain": [
       "['A', 2, 3, 4, 5, 6, 7, 8, 9, 10, 'J', 'Q', 'K']"
      ]
     },
     "execution_count": 75,
     "metadata": {},
     "output_type": "execute_result"
    }
   ],
   "source": [
    "base_names"
   ]
  },
  {
   "cell_type": "code",
   "execution_count": 76,
   "id": "e3c12739",
   "metadata": {},
   "outputs": [
    {
     "data": {
      "text/plain": [
       "['AH', '2H', '3H', '4H', '5H', '6H', '7H', '8H', '9H', '10H', 'JH', 'QH', 'KH']"
      ]
     },
     "execution_count": 76,
     "metadata": {},
     "output_type": "execute_result"
    }
   ],
   "source": [
    "# 用 list comprehensive 來顯示紅心的牌\n",
    "[str(num) + 'H' for num in base_names]"
   ]
  },
  {
   "cell_type": "code",
   "execution_count": 77,
   "id": "6faf45ad",
   "metadata": {},
   "outputs": [
    {
     "data": {
      "text/plain": [
       "AH      1\n",
       "2H      2\n",
       "3H      3\n",
       "4H      4\n",
       "5H      5\n",
       "6H      6\n",
       "7H      7\n",
       "8H      8\n",
       "9H      9\n",
       "10H    10\n",
       "JH     10\n",
       "QH     10\n",
       "KH     10\n",
       "AS      1\n",
       "2S      2\n",
       "3S      3\n",
       "4S      4\n",
       "5S      5\n",
       "6S      6\n",
       "7S      7\n",
       "8S      8\n",
       "9S      9\n",
       "10S    10\n",
       "JS     10\n",
       "QS     10\n",
       "KS     10\n",
       "AC      1\n",
       "2C      2\n",
       "3C      3\n",
       "4C      4\n",
       "5C      5\n",
       "6C      6\n",
       "7C      7\n",
       "8C      8\n",
       "9C      9\n",
       "10C    10\n",
       "JC     10\n",
       "QC     10\n",
       "KC     10\n",
       "AD      1\n",
       "2D      2\n",
       "3D      3\n",
       "4D      4\n",
       "5D      5\n",
       "6D      6\n",
       "7D      7\n",
       "8D      8\n",
       "9D      9\n",
       "10D    10\n",
       "JD     10\n",
       "QD     10\n",
       "KD     10\n",
       "dtype: int64"
      ]
     },
     "execution_count": 77,
     "metadata": {},
     "output_type": "execute_result"
    }
   ],
   "source": [
    "# 真正來製作一副撲克牌\n",
    "cards = []\n",
    "for suit in ['H', 'S', 'C', 'D']:\n",
    "    cards.extend([str(num) + suit for num in base_names])\n",
    "    \n",
    "deck = pd.Series(card_val, index = cards)\n",
    "deck"
   ]
  },
  {
   "cell_type": "code",
   "execution_count": 93,
   "id": "e6ae703e",
   "metadata": {},
   "outputs": [
    {
     "data": {
      "text/plain": [
       "5C      5\n",
       "10D    10\n",
       "8H      8\n",
       "7S      7\n",
       "9H      9\n",
       "dtype: int64"
      ]
     },
     "execution_count": 93,
     "metadata": {},
     "output_type": "execute_result"
    }
   ],
   "source": [
    "# 自定義函數來看看要取出幾張牌\n",
    "def draw(deck, n = 5):\n",
    "    return deck.sample(n)\n",
    "\n",
    "draw(deck)"
   ]
  },
  {
   "cell_type": "code",
   "execution_count": 99,
   "id": "45ac1f99",
   "metadata": {},
   "outputs": [
    {
     "data": {
      "text/plain": [
       "C  10C    10\n",
       "   8C      8\n",
       "D  QD     10\n",
       "   8D      8\n",
       "H  JH     10\n",
       "   QH     10\n",
       "S  KS     10\n",
       "   JS     10\n",
       "dtype: int64"
      ]
     },
     "execution_count": 99,
     "metadata": {},
     "output_type": "execute_result"
    }
   ],
   "source": [
    "# 從每種花色隨機抽兩張牌\n",
    "\n",
    "get_suit = lambda card: card[-1]\n",
    "deck.groupby(get_suit).apply(draw, n = 2)"
   ]
  },
  {
   "cell_type": "code",
   "execution_count": 102,
   "id": "bfe72270",
   "metadata": {},
   "outputs": [
    {
     "data": {
      "text/plain": [
       "C  5C     5\n",
       "   JC    10\n",
       "D  3D     3\n",
       "   QD    10\n",
       "H  3H     3\n",
       "   4H     4\n",
       "S  5S     5\n",
       "   KS    10\n",
       "dtype: int64"
      ]
     },
     "execution_count": 102,
     "metadata": {},
     "output_type": "execute_result"
    }
   ],
   "source": [
    "# 當然也可以把匿名函數寫在裡面\n",
    "deck.groupby(get_suit).apply(lambda x: x.sample(2))"
   ]
  },
  {
   "cell_type": "code",
   "execution_count": 107,
   "id": "47607e5b",
   "metadata": {},
   "outputs": [
    {
     "data": {
      "text/plain": [
       "8C      8\n",
       "10C    10\n",
       "3D      3\n",
       "QD     10\n",
       "QH     10\n",
       "2H      2\n",
       "9S      9\n",
       "8S      8\n",
       "dtype: int64"
      ]
     },
     "execution_count": 107,
     "metadata": {},
     "output_type": "execute_result"
    }
   ],
   "source": [
    "deck.groupby(get_suit, group_keys = False).apply(draw, n = 2)"
   ]
  },
  {
   "cell_type": "markdown",
   "id": "abd3e97e",
   "metadata": {},
   "source": [
    "### 加權平均和關聯性"
   ]
  },
  {
   "cell_type": "code",
   "execution_count": 111,
   "id": "fb1b7783",
   "metadata": {},
   "outputs": [
    {
     "data": {
      "text/html": [
       "<div>\n",
       "<style scoped>\n",
       "    .dataframe tbody tr th:only-of-type {\n",
       "        vertical-align: middle;\n",
       "    }\n",
       "\n",
       "    .dataframe tbody tr th {\n",
       "        vertical-align: top;\n",
       "    }\n",
       "\n",
       "    .dataframe thead th {\n",
       "        text-align: right;\n",
       "    }\n",
       "</style>\n",
       "<table border=\"1\" class=\"dataframe\">\n",
       "  <thead>\n",
       "    <tr style=\"text-align: right;\">\n",
       "      <th></th>\n",
       "      <th>data</th>\n",
       "      <th>weights</th>\n",
       "    </tr>\n",
       "  </thead>\n",
       "  <tbody>\n",
       "    <tr>\n",
       "      <th>0</th>\n",
       "      <td>1</td>\n",
       "      <td>2</td>\n",
       "    </tr>\n",
       "    <tr>\n",
       "      <th>1</th>\n",
       "      <td>3</td>\n",
       "      <td>4</td>\n",
       "    </tr>\n",
       "    <tr>\n",
       "      <th>2</th>\n",
       "      <td>5</td>\n",
       "      <td>4</td>\n",
       "    </tr>\n",
       "  </tbody>\n",
       "</table>\n",
       "</div>"
      ],
      "text/plain": [
       "   data  weights\n",
       "0     1        2\n",
       "1     3        4\n",
       "2     5        4"
      ]
     },
     "execution_count": 111,
     "metadata": {},
     "output_type": "execute_result"
    }
   ],
   "source": [
    "df = pd.DataFrame(np.array([[1, 2], [3, 4], [5, 4]]),\n",
    "                  columns = ['data', 'weights'])\n",
    "df"
   ]
  },
  {
   "cell_type": "markdown",
   "id": "c2560c3e",
   "metadata": {},
   "source": [
    "注意加權平均是要自己乘上【權重/權重相加】<br/>\n",
    "這題會是 $$1\\times\\frac{2}{10}+3\\times\\frac{4}{10}+5\\times\\frac{4}{10} = 3.4$$"
   ]
  },
  {
   "cell_type": "code",
   "execution_count": 112,
   "id": "f422b631",
   "metadata": {},
   "outputs": [
    {
     "data": {
      "text/plain": [
       "3.4"
      ]
     },
     "execution_count": 112,
     "metadata": {},
     "output_type": "execute_result"
    }
   ],
   "source": [
    "# 可調用 np.average() 函式幫我們處理\n",
    "np.average(df.data, weights = df.weights)"
   ]
  },
  {
   "cell_type": "markdown",
   "id": "ab9842f6",
   "metadata": {},
   "source": [
    "------------"
   ]
  },
  {
   "cell_type": "raw",
   "id": "81e930e0",
   "metadata": {},
   "source": [
    "# 目標算出每組的加權平均"
   ]
  },
  {
   "cell_type": "code",
   "execution_count": 115,
   "id": "76a01865",
   "metadata": {},
   "outputs": [
    {
     "data": {
      "text/html": [
       "<div>\n",
       "<style scoped>\n",
       "    .dataframe tbody tr th:only-of-type {\n",
       "        vertical-align: middle;\n",
       "    }\n",
       "\n",
       "    .dataframe tbody tr th {\n",
       "        vertical-align: top;\n",
       "    }\n",
       "\n",
       "    .dataframe thead th {\n",
       "        text-align: right;\n",
       "    }\n",
       "</style>\n",
       "<table border=\"1\" class=\"dataframe\">\n",
       "  <thead>\n",
       "    <tr style=\"text-align: right;\">\n",
       "      <th></th>\n",
       "      <th>category</th>\n",
       "      <th>data</th>\n",
       "      <th>weights</th>\n",
       "    </tr>\n",
       "  </thead>\n",
       "  <tbody>\n",
       "    <tr>\n",
       "      <th>0</th>\n",
       "      <td>a</td>\n",
       "      <td>1.561967</td>\n",
       "      <td>0.466880</td>\n",
       "    </tr>\n",
       "    <tr>\n",
       "      <th>1</th>\n",
       "      <td>a</td>\n",
       "      <td>1.026377</td>\n",
       "      <td>0.692145</td>\n",
       "    </tr>\n",
       "    <tr>\n",
       "      <th>2</th>\n",
       "      <td>a</td>\n",
       "      <td>0.813418</td>\n",
       "      <td>0.928486</td>\n",
       "    </tr>\n",
       "    <tr>\n",
       "      <th>3</th>\n",
       "      <td>a</td>\n",
       "      <td>0.667819</td>\n",
       "      <td>0.870945</td>\n",
       "    </tr>\n",
       "    <tr>\n",
       "      <th>4</th>\n",
       "      <td>b</td>\n",
       "      <td>-0.044064</td>\n",
       "      <td>0.570806</td>\n",
       "    </tr>\n",
       "    <tr>\n",
       "      <th>5</th>\n",
       "      <td>b</td>\n",
       "      <td>0.693962</td>\n",
       "      <td>0.208421</td>\n",
       "    </tr>\n",
       "    <tr>\n",
       "      <th>6</th>\n",
       "      <td>b</td>\n",
       "      <td>0.760677</td>\n",
       "      <td>0.937191</td>\n",
       "    </tr>\n",
       "    <tr>\n",
       "      <th>7</th>\n",
       "      <td>b</td>\n",
       "      <td>-0.520019</td>\n",
       "      <td>0.288738</td>\n",
       "    </tr>\n",
       "  </tbody>\n",
       "</table>\n",
       "</div>"
      ],
      "text/plain": [
       "  category      data   weights\n",
       "0        a  1.561967  0.466880\n",
       "1        a  1.026377  0.692145\n",
       "2        a  0.813418  0.928486\n",
       "3        a  0.667819  0.870945\n",
       "4        b -0.044064  0.570806\n",
       "5        b  0.693962  0.208421\n",
       "6        b  0.760677  0.937191\n",
       "7        b -0.520019  0.288738"
      ]
     },
     "execution_count": 115,
     "metadata": {},
     "output_type": "execute_result"
    }
   ],
   "source": [
    "df = pd.DataFrame({'category': ['a', 'a', 'a', 'a',\n",
    "                                'b', 'b', 'b', 'b'],\n",
    "                   'data': np.random.randn(8),\n",
    "                   'weights': np.random.rand(8)})\n",
    "df"
   ]
  },
  {
   "cell_type": "code",
   "execution_count": null,
   "id": "e91d7130",
   "metadata": {},
   "outputs": [],
   "source": [
    "grouped = df.groupby('category')\n",
    "get_wavg = lambda g: np.average(g['data'], weights = g['weights'])\n",
    "grouped.apply(get_wavg)"
   ]
  },
  {
   "cell_type": "code",
   "execution_count": 119,
   "id": "ff71a5a1",
   "metadata": {},
   "outputs": [
    {
     "data": {
      "text/plain": [
       "category\n",
       "a    0.938508\n",
       "b    0.340240\n",
       "dtype: float64"
      ]
     },
     "execution_count": 119,
     "metadata": {},
     "output_type": "execute_result"
    }
   ],
   "source": [
    "#寫成一行的寫法\n",
    "df.groupby('category').apply(lambda x :np.average(x['data'],weights=x['weights']))"
   ]
  },
  {
   "cell_type": "markdown",
   "id": "092ba6ec",
   "metadata": {},
   "source": [
    "---"
   ]
  },
  {
   "cell_type": "raw",
   "id": "23234680",
   "metadata": {},
   "source": [
    "# 目標計算個股每日收益 (從百分比變化計算得來) 和 標準普爾 500 指數 SPX 每年的相關性"
   ]
  },
  {
   "cell_type": "code",
   "execution_count": 128,
   "id": "28aef23d",
   "metadata": {},
   "outputs": [
    {
     "data": {
      "text/html": [
       "<div>\n",
       "<style scoped>\n",
       "    .dataframe tbody tr th:only-of-type {\n",
       "        vertical-align: middle;\n",
       "    }\n",
       "\n",
       "    .dataframe tbody tr th {\n",
       "        vertical-align: top;\n",
       "    }\n",
       "\n",
       "    .dataframe thead th {\n",
       "        text-align: right;\n",
       "    }\n",
       "</style>\n",
       "<table border=\"1\" class=\"dataframe\">\n",
       "  <thead>\n",
       "    <tr style=\"text-align: right;\">\n",
       "      <th></th>\n",
       "      <th>AAPL</th>\n",
       "      <th>MSFT</th>\n",
       "      <th>XOM</th>\n",
       "      <th>SPX</th>\n",
       "    </tr>\n",
       "  </thead>\n",
       "  <tbody>\n",
       "    <tr>\n",
       "      <th>2003-01-02</th>\n",
       "      <td>7.40</td>\n",
       "      <td>21.11</td>\n",
       "      <td>29.22</td>\n",
       "      <td>909.03</td>\n",
       "    </tr>\n",
       "    <tr>\n",
       "      <th>2003-01-03</th>\n",
       "      <td>7.45</td>\n",
       "      <td>21.14</td>\n",
       "      <td>29.24</td>\n",
       "      <td>908.59</td>\n",
       "    </tr>\n",
       "    <tr>\n",
       "      <th>2003-01-06</th>\n",
       "      <td>7.45</td>\n",
       "      <td>21.52</td>\n",
       "      <td>29.96</td>\n",
       "      <td>929.01</td>\n",
       "    </tr>\n",
       "    <tr>\n",
       "      <th>2003-01-07</th>\n",
       "      <td>7.43</td>\n",
       "      <td>21.93</td>\n",
       "      <td>28.95</td>\n",
       "      <td>922.93</td>\n",
       "    </tr>\n",
       "    <tr>\n",
       "      <th>2003-01-08</th>\n",
       "      <td>7.28</td>\n",
       "      <td>21.31</td>\n",
       "      <td>28.83</td>\n",
       "      <td>909.93</td>\n",
       "    </tr>\n",
       "    <tr>\n",
       "      <th>...</th>\n",
       "      <td>...</td>\n",
       "      <td>...</td>\n",
       "      <td>...</td>\n",
       "      <td>...</td>\n",
       "    </tr>\n",
       "    <tr>\n",
       "      <th>2011-10-10</th>\n",
       "      <td>388.81</td>\n",
       "      <td>26.94</td>\n",
       "      <td>76.28</td>\n",
       "      <td>1194.89</td>\n",
       "    </tr>\n",
       "    <tr>\n",
       "      <th>2011-10-11</th>\n",
       "      <td>400.29</td>\n",
       "      <td>27.00</td>\n",
       "      <td>76.27</td>\n",
       "      <td>1195.54</td>\n",
       "    </tr>\n",
       "    <tr>\n",
       "      <th>2011-10-12</th>\n",
       "      <td>402.19</td>\n",
       "      <td>26.96</td>\n",
       "      <td>77.16</td>\n",
       "      <td>1207.25</td>\n",
       "    </tr>\n",
       "    <tr>\n",
       "      <th>2011-10-13</th>\n",
       "      <td>408.43</td>\n",
       "      <td>27.18</td>\n",
       "      <td>76.37</td>\n",
       "      <td>1203.66</td>\n",
       "    </tr>\n",
       "    <tr>\n",
       "      <th>2011-10-14</th>\n",
       "      <td>422.00</td>\n",
       "      <td>27.27</td>\n",
       "      <td>78.11</td>\n",
       "      <td>1224.58</td>\n",
       "    </tr>\n",
       "  </tbody>\n",
       "</table>\n",
       "<p>2214 rows × 4 columns</p>\n",
       "</div>"
      ],
      "text/plain": [
       "              AAPL   MSFT    XOM      SPX\n",
       "2003-01-02    7.40  21.11  29.22   909.03\n",
       "2003-01-03    7.45  21.14  29.24   908.59\n",
       "2003-01-06    7.45  21.52  29.96   929.01\n",
       "2003-01-07    7.43  21.93  28.95   922.93\n",
       "2003-01-08    7.28  21.31  28.83   909.93\n",
       "...            ...    ...    ...      ...\n",
       "2011-10-10  388.81  26.94  76.28  1194.89\n",
       "2011-10-11  400.29  27.00  76.27  1195.54\n",
       "2011-10-12  402.19  26.96  77.16  1207.25\n",
       "2011-10-13  408.43  27.18  76.37  1203.66\n",
       "2011-10-14  422.00  27.27  78.11  1224.58\n",
       "\n",
       "[2214 rows x 4 columns]"
      ]
     },
     "execution_count": 128,
     "metadata": {},
     "output_type": "execute_result"
    }
   ],
   "source": [
    "close_px = pd.read_csv('./mod08/stock_px_2.csv', \n",
    "                       parse_dates=True,\n",
    "                       index_col=0)\n",
    "close_px"
   ]
  },
  {
   "cell_type": "code",
   "execution_count": 124,
   "id": "ca92463b",
   "metadata": {},
   "outputs": [
    {
     "name": "stdout",
     "output_type": "stream",
     "text": [
      "<class 'pandas.core.frame.DataFrame'>\n",
      "DatetimeIndex: 2214 entries, 2003-01-02 to 2011-10-14\n",
      "Data columns (total 4 columns):\n",
      " #   Column  Non-Null Count  Dtype  \n",
      "---  ------  --------------  -----  \n",
      " 0   AAPL    2214 non-null   float64\n",
      " 1   MSFT    2214 non-null   float64\n",
      " 2   XOM     2214 non-null   float64\n",
      " 3   SPX     2214 non-null   float64\n",
      "dtypes: float64(4)\n",
      "memory usage: 86.5 KB\n"
     ]
    }
   ],
   "source": [
    "# 資料框的 .info() 方法可以簡略看出資料框的資訊\n",
    "close_px.info()"
   ]
  },
  {
   "cell_type": "code",
   "execution_count": 125,
   "id": "339ff2ae",
   "metadata": {},
   "outputs": [
    {
     "data": {
      "text/html": [
       "<div>\n",
       "<style scoped>\n",
       "    .dataframe tbody tr th:only-of-type {\n",
       "        vertical-align: middle;\n",
       "    }\n",
       "\n",
       "    .dataframe tbody tr th {\n",
       "        vertical-align: top;\n",
       "    }\n",
       "\n",
       "    .dataframe thead th {\n",
       "        text-align: right;\n",
       "    }\n",
       "</style>\n",
       "<table border=\"1\" class=\"dataframe\">\n",
       "  <thead>\n",
       "    <tr style=\"text-align: right;\">\n",
       "      <th></th>\n",
       "      <th>AAPL</th>\n",
       "      <th>MSFT</th>\n",
       "      <th>XOM</th>\n",
       "      <th>SPX</th>\n",
       "    </tr>\n",
       "  </thead>\n",
       "  <tbody>\n",
       "    <tr>\n",
       "      <th>2003-01-02</th>\n",
       "      <td>7.40</td>\n",
       "      <td>21.11</td>\n",
       "      <td>29.22</td>\n",
       "      <td>909.03</td>\n",
       "    </tr>\n",
       "    <tr>\n",
       "      <th>2003-01-03</th>\n",
       "      <td>7.45</td>\n",
       "      <td>21.14</td>\n",
       "      <td>29.24</td>\n",
       "      <td>908.59</td>\n",
       "    </tr>\n",
       "    <tr>\n",
       "      <th>2003-01-06</th>\n",
       "      <td>7.45</td>\n",
       "      <td>21.52</td>\n",
       "      <td>29.96</td>\n",
       "      <td>929.01</td>\n",
       "    </tr>\n",
       "    <tr>\n",
       "      <th>2003-01-07</th>\n",
       "      <td>7.43</td>\n",
       "      <td>21.93</td>\n",
       "      <td>28.95</td>\n",
       "      <td>922.93</td>\n",
       "    </tr>\n",
       "    <tr>\n",
       "      <th>2003-01-08</th>\n",
       "      <td>7.28</td>\n",
       "      <td>21.31</td>\n",
       "      <td>28.83</td>\n",
       "      <td>909.93</td>\n",
       "    </tr>\n",
       "  </tbody>\n",
       "</table>\n",
       "</div>"
      ],
      "text/plain": [
       "            AAPL   MSFT    XOM     SPX\n",
       "2003-01-02  7.40  21.11  29.22  909.03\n",
       "2003-01-03  7.45  21.14  29.24  908.59\n",
       "2003-01-06  7.45  21.52  29.96  929.01\n",
       "2003-01-07  7.43  21.93  28.95  922.93\n",
       "2003-01-08  7.28  21.31  28.83  909.93"
      ]
     },
     "execution_count": 125,
     "metadata": {},
     "output_type": "execute_result"
    }
   ],
   "source": [
    "close_px[:5]"
   ]
  },
  {
   "cell_type": "code",
   "execution_count": 126,
   "id": "52dcb553",
   "metadata": {},
   "outputs": [
    {
     "data": {
      "text/html": [
       "<div>\n",
       "<style scoped>\n",
       "    .dataframe tbody tr th:only-of-type {\n",
       "        vertical-align: middle;\n",
       "    }\n",
       "\n",
       "    .dataframe tbody tr th {\n",
       "        vertical-align: top;\n",
       "    }\n",
       "\n",
       "    .dataframe thead th {\n",
       "        text-align: right;\n",
       "    }\n",
       "</style>\n",
       "<table border=\"1\" class=\"dataframe\">\n",
       "  <thead>\n",
       "    <tr style=\"text-align: right;\">\n",
       "      <th></th>\n",
       "      <th>AAPL</th>\n",
       "      <th>MSFT</th>\n",
       "      <th>XOM</th>\n",
       "      <th>SPX</th>\n",
       "    </tr>\n",
       "  </thead>\n",
       "  <tbody>\n",
       "    <tr>\n",
       "      <th>2003-01-02</th>\n",
       "      <td>NaN</td>\n",
       "      <td>NaN</td>\n",
       "      <td>NaN</td>\n",
       "      <td>NaN</td>\n",
       "    </tr>\n",
       "    <tr>\n",
       "      <th>2003-01-03</th>\n",
       "      <td>0.006757</td>\n",
       "      <td>0.001421</td>\n",
       "      <td>0.000684</td>\n",
       "      <td>-0.000484</td>\n",
       "    </tr>\n",
       "    <tr>\n",
       "      <th>2003-01-06</th>\n",
       "      <td>0.000000</td>\n",
       "      <td>0.017975</td>\n",
       "      <td>0.024624</td>\n",
       "      <td>0.022474</td>\n",
       "    </tr>\n",
       "    <tr>\n",
       "      <th>2003-01-07</th>\n",
       "      <td>-0.002685</td>\n",
       "      <td>0.019052</td>\n",
       "      <td>-0.033712</td>\n",
       "      <td>-0.006545</td>\n",
       "    </tr>\n",
       "    <tr>\n",
       "      <th>2003-01-08</th>\n",
       "      <td>-0.020188</td>\n",
       "      <td>-0.028272</td>\n",
       "      <td>-0.004145</td>\n",
       "      <td>-0.014086</td>\n",
       "    </tr>\n",
       "    <tr>\n",
       "      <th>...</th>\n",
       "      <td>...</td>\n",
       "      <td>...</td>\n",
       "      <td>...</td>\n",
       "      <td>...</td>\n",
       "    </tr>\n",
       "    <tr>\n",
       "      <th>2011-10-10</th>\n",
       "      <td>0.051406</td>\n",
       "      <td>0.026286</td>\n",
       "      <td>0.036977</td>\n",
       "      <td>0.034125</td>\n",
       "    </tr>\n",
       "    <tr>\n",
       "      <th>2011-10-11</th>\n",
       "      <td>0.029526</td>\n",
       "      <td>0.002227</td>\n",
       "      <td>-0.000131</td>\n",
       "      <td>0.000544</td>\n",
       "    </tr>\n",
       "    <tr>\n",
       "      <th>2011-10-12</th>\n",
       "      <td>0.004747</td>\n",
       "      <td>-0.001481</td>\n",
       "      <td>0.011669</td>\n",
       "      <td>0.009795</td>\n",
       "    </tr>\n",
       "    <tr>\n",
       "      <th>2011-10-13</th>\n",
       "      <td>0.015515</td>\n",
       "      <td>0.008160</td>\n",
       "      <td>-0.010238</td>\n",
       "      <td>-0.002974</td>\n",
       "    </tr>\n",
       "    <tr>\n",
       "      <th>2011-10-14</th>\n",
       "      <td>0.033225</td>\n",
       "      <td>0.003311</td>\n",
       "      <td>0.022784</td>\n",
       "      <td>0.017380</td>\n",
       "    </tr>\n",
       "  </tbody>\n",
       "</table>\n",
       "<p>2214 rows × 4 columns</p>\n",
       "</div>"
      ],
      "text/plain": [
       "                AAPL      MSFT       XOM       SPX\n",
       "2003-01-02       NaN       NaN       NaN       NaN\n",
       "2003-01-03  0.006757  0.001421  0.000684 -0.000484\n",
       "2003-01-06  0.000000  0.017975  0.024624  0.022474\n",
       "2003-01-07 -0.002685  0.019052 -0.033712 -0.006545\n",
       "2003-01-08 -0.020188 -0.028272 -0.004145 -0.014086\n",
       "...              ...       ...       ...       ...\n",
       "2011-10-10  0.051406  0.026286  0.036977  0.034125\n",
       "2011-10-11  0.029526  0.002227 -0.000131  0.000544\n",
       "2011-10-12  0.004747 -0.001481  0.011669  0.009795\n",
       "2011-10-13  0.015515  0.008160 -0.010238 -0.002974\n",
       "2011-10-14  0.033225  0.003311  0.022784  0.017380\n",
       "\n",
       "[2214 rows x 4 columns]"
      ]
     },
     "execution_count": 126,
     "metadata": {},
     "output_type": "execute_result"
    }
   ],
   "source": [
    "# 計算每個欄位的變化百分比\n",
    "rets = close_px.pct_change()\n",
    "rets"
   ]
  },
  {
   "cell_type": "code",
   "execution_count": 127,
   "id": "345851d9",
   "metadata": {},
   "outputs": [
    {
     "data": {
      "text/html": [
       "<div>\n",
       "<style scoped>\n",
       "    .dataframe tbody tr th:only-of-type {\n",
       "        vertical-align: middle;\n",
       "    }\n",
       "\n",
       "    .dataframe tbody tr th {\n",
       "        vertical-align: top;\n",
       "    }\n",
       "\n",
       "    .dataframe thead th {\n",
       "        text-align: right;\n",
       "    }\n",
       "</style>\n",
       "<table border=\"1\" class=\"dataframe\">\n",
       "  <thead>\n",
       "    <tr style=\"text-align: right;\">\n",
       "      <th></th>\n",
       "      <th>AAPL</th>\n",
       "      <th>MSFT</th>\n",
       "      <th>XOM</th>\n",
       "      <th>SPX</th>\n",
       "    </tr>\n",
       "  </thead>\n",
       "  <tbody>\n",
       "    <tr>\n",
       "      <th>2003-01-03</th>\n",
       "      <td>0.006757</td>\n",
       "      <td>0.001421</td>\n",
       "      <td>0.000684</td>\n",
       "      <td>-0.000484</td>\n",
       "    </tr>\n",
       "    <tr>\n",
       "      <th>2003-01-06</th>\n",
       "      <td>0.000000</td>\n",
       "      <td>0.017975</td>\n",
       "      <td>0.024624</td>\n",
       "      <td>0.022474</td>\n",
       "    </tr>\n",
       "    <tr>\n",
       "      <th>2003-01-07</th>\n",
       "      <td>-0.002685</td>\n",
       "      <td>0.019052</td>\n",
       "      <td>-0.033712</td>\n",
       "      <td>-0.006545</td>\n",
       "    </tr>\n",
       "    <tr>\n",
       "      <th>2003-01-08</th>\n",
       "      <td>-0.020188</td>\n",
       "      <td>-0.028272</td>\n",
       "      <td>-0.004145</td>\n",
       "      <td>-0.014086</td>\n",
       "    </tr>\n",
       "    <tr>\n",
       "      <th>2003-01-09</th>\n",
       "      <td>0.008242</td>\n",
       "      <td>0.029094</td>\n",
       "      <td>0.021159</td>\n",
       "      <td>0.019386</td>\n",
       "    </tr>\n",
       "    <tr>\n",
       "      <th>...</th>\n",
       "      <td>...</td>\n",
       "      <td>...</td>\n",
       "      <td>...</td>\n",
       "      <td>...</td>\n",
       "    </tr>\n",
       "    <tr>\n",
       "      <th>2011-10-10</th>\n",
       "      <td>0.051406</td>\n",
       "      <td>0.026286</td>\n",
       "      <td>0.036977</td>\n",
       "      <td>0.034125</td>\n",
       "    </tr>\n",
       "    <tr>\n",
       "      <th>2011-10-11</th>\n",
       "      <td>0.029526</td>\n",
       "      <td>0.002227</td>\n",
       "      <td>-0.000131</td>\n",
       "      <td>0.000544</td>\n",
       "    </tr>\n",
       "    <tr>\n",
       "      <th>2011-10-12</th>\n",
       "      <td>0.004747</td>\n",
       "      <td>-0.001481</td>\n",
       "      <td>0.011669</td>\n",
       "      <td>0.009795</td>\n",
       "    </tr>\n",
       "    <tr>\n",
       "      <th>2011-10-13</th>\n",
       "      <td>0.015515</td>\n",
       "      <td>0.008160</td>\n",
       "      <td>-0.010238</td>\n",
       "      <td>-0.002974</td>\n",
       "    </tr>\n",
       "    <tr>\n",
       "      <th>2011-10-14</th>\n",
       "      <td>0.033225</td>\n",
       "      <td>0.003311</td>\n",
       "      <td>0.022784</td>\n",
       "      <td>0.017380</td>\n",
       "    </tr>\n",
       "  </tbody>\n",
       "</table>\n",
       "<p>2213 rows × 4 columns</p>\n",
       "</div>"
      ],
      "text/plain": [
       "                AAPL      MSFT       XOM       SPX\n",
       "2003-01-03  0.006757  0.001421  0.000684 -0.000484\n",
       "2003-01-06  0.000000  0.017975  0.024624  0.022474\n",
       "2003-01-07 -0.002685  0.019052 -0.033712 -0.006545\n",
       "2003-01-08 -0.020188 -0.028272 -0.004145 -0.014086\n",
       "2003-01-09  0.008242  0.029094  0.021159  0.019386\n",
       "...              ...       ...       ...       ...\n",
       "2011-10-10  0.051406  0.026286  0.036977  0.034125\n",
       "2011-10-11  0.029526  0.002227 -0.000131  0.000544\n",
       "2011-10-12  0.004747 -0.001481  0.011669  0.009795\n",
       "2011-10-13  0.015515  0.008160 -0.010238 -0.002974\n",
       "2011-10-14  0.033225  0.003311  0.022784  0.017380\n",
       "\n",
       "[2213 rows x 4 columns]"
      ]
     },
     "execution_count": 127,
     "metadata": {},
     "output_type": "execute_result"
    }
   ],
   "source": [
    "# 去除遺失值\n",
    "rets = rets.dropna()\n",
    "rets"
   ]
  },
  {
   "cell_type": "code",
   "execution_count": 154,
   "id": "374dbd74",
   "metadata": {},
   "outputs": [
    {
     "name": "stdout",
     "output_type": "stream",
     "text": [
      "2003\n",
      "                AAPL      MSFT       XOM       SPX\n",
      "2003-01-02       NaN       NaN       NaN       NaN\n",
      "2003-01-03  0.006757  0.001421  0.000684 -0.000484\n",
      "2003-01-06  0.000000  0.017975  0.024624  0.022474\n",
      "2003-01-07 -0.002685  0.019052 -0.033712 -0.006545\n",
      "2003-01-08 -0.020188 -0.028272 -0.004145 -0.014086\n",
      "2004\n",
      "                AAPL      MSFT       XOM       SPX\n",
      "2004-01-02 -0.004677  0.002765 -0.008929 -0.003094\n",
      "2004-01-05  0.042293  0.025276  0.023249  0.012395\n",
      "2004-01-06 -0.003607  0.003586 -0.006816  0.001292\n",
      "2004-01-07  0.022624 -0.001340 -0.007149  0.002367\n",
      "2004-01-08  0.033628 -0.001342 -0.002592  0.004963\n",
      "2005\n",
      "                AAPL      MSFT       XOM       SPX\n",
      "2005-01-03 -0.017081  0.000845 -0.022717 -0.008119\n",
      "2005-01-04  0.010111  0.003797 -0.006904 -0.011671\n",
      "2005-01-05  0.008758 -0.002522 -0.005098 -0.003628\n",
      "2005-01-06  0.000930 -0.000843  0.012579  0.003506\n",
      "2005-01-07  0.072491 -0.002952 -0.006441 -0.001431\n",
      "2006\n",
      "                AAPL      MSFT       XOM       SPX\n",
      "2006-01-03  0.039783  0.026428  0.041046  0.016430\n",
      "2006-01-04  0.002943  0.004568  0.001739  0.003673\n",
      "2006-01-05 -0.007870  0.000827 -0.005016  0.000016\n",
      "2006-01-06  0.025813 -0.002891  0.019779  0.009399\n",
      "2006-01-09 -0.003277 -0.002071 -0.000570  0.003656\n",
      "2007\n",
      "                AAPL      MSFT       XOM       SPX\n",
      "2007-01-03 -0.012258  0.000000 -0.032981 -0.001199\n",
      "2007-01-04  0.022196 -0.001472 -0.018699  0.001228\n",
      "2007-01-05 -0.007121 -0.005898  0.007165 -0.006085\n",
      "2007-01-08  0.004938  0.010011 -0.008022  0.002220\n",
      "2007-01-09  0.083070  0.000734 -0.007782 -0.000517\n",
      "2008\n",
      "                AAPL      MSFT       XOM       SPX\n",
      "2008-01-02 -0.016357 -0.010658 -0.001862 -0.014438\n",
      "2008-01-03  0.000462  0.004001  0.003382  0.000000\n",
      "2008-01-04 -0.076335 -0.027897 -0.018596 -0.024552\n",
      "2008-01-07 -0.013385  0.006623 -0.009356  0.003223\n",
      "2008-01-08 -0.035972 -0.033521 -0.012791 -0.018352\n",
      "2009\n",
      "                AAPL      MSFT       XOM       SPX\n",
      "2009-01-02  0.063269  0.046002  0.022773  0.031608\n",
      "2009-01-05  0.042204  0.009424 -0.000131 -0.004668\n",
      "2009-01-06 -0.016494  0.011411 -0.016374  0.007817\n",
      "2009-01-07 -0.021608 -0.060000 -0.025436 -0.030010\n",
      "2009-01-08  0.018569  0.031097  0.010659  0.003397\n",
      "2010\n",
      "                AAPL      MSFT       XOM       SPX\n",
      "2010-01-04  0.015565  0.015700  0.014102  0.016043\n",
      "2010-01-05  0.001729  0.000336  0.003930  0.003116\n",
      "2010-01-06 -0.015906 -0.006382  0.008582  0.000546\n",
      "2010-01-07 -0.001849 -0.010142 -0.003135  0.004001\n",
      "2010-01-08  0.006648  0.006831 -0.003893  0.002882\n",
      "2011\n",
      "                AAPL      MSFT       XOM       SPX\n",
      "2011-01-03  0.021732  0.002556  0.019624  0.011315\n",
      "2011-01-04  0.005219  0.004006  0.004641 -0.001313\n",
      "2011-01-05  0.008180 -0.003264 -0.002717  0.005007\n",
      "2011-01-06 -0.000808  0.029476  0.006540 -0.002123\n",
      "2011-01-07  0.007161 -0.007777  0.005414 -0.001845\n"
     ]
    }
   ],
   "source": [
    "get_year = lambda x: x.year\n",
    "by_year  = rets.groupby(get_year)\n",
    "print_groups(by_year)"
   ]
  },
  {
   "cell_type": "code",
   "execution_count": 156,
   "id": "a78a1397",
   "metadata": {},
   "outputs": [
    {
     "data": {
      "text/html": [
       "<div>\n",
       "<style scoped>\n",
       "    .dataframe tbody tr th:only-of-type {\n",
       "        vertical-align: middle;\n",
       "    }\n",
       "\n",
       "    .dataframe tbody tr th {\n",
       "        vertical-align: top;\n",
       "    }\n",
       "\n",
       "    .dataframe thead th {\n",
       "        text-align: right;\n",
       "    }\n",
       "</style>\n",
       "<table border=\"1\" class=\"dataframe\">\n",
       "  <thead>\n",
       "    <tr style=\"text-align: right;\">\n",
       "      <th></th>\n",
       "      <th>AAPL</th>\n",
       "      <th>MSFT</th>\n",
       "      <th>XOM</th>\n",
       "      <th>SPX</th>\n",
       "    </tr>\n",
       "  </thead>\n",
       "  <tbody>\n",
       "    <tr>\n",
       "      <th>2003</th>\n",
       "      <td>0.541124</td>\n",
       "      <td>0.745174</td>\n",
       "      <td>0.661265</td>\n",
       "      <td>1.0</td>\n",
       "    </tr>\n",
       "    <tr>\n",
       "      <th>2004</th>\n",
       "      <td>0.374283</td>\n",
       "      <td>0.588531</td>\n",
       "      <td>0.557742</td>\n",
       "      <td>1.0</td>\n",
       "    </tr>\n",
       "    <tr>\n",
       "      <th>2005</th>\n",
       "      <td>0.467540</td>\n",
       "      <td>0.562374</td>\n",
       "      <td>0.631010</td>\n",
       "      <td>1.0</td>\n",
       "    </tr>\n",
       "    <tr>\n",
       "      <th>2006</th>\n",
       "      <td>0.428267</td>\n",
       "      <td>0.406126</td>\n",
       "      <td>0.518514</td>\n",
       "      <td>1.0</td>\n",
       "    </tr>\n",
       "    <tr>\n",
       "      <th>2007</th>\n",
       "      <td>0.508118</td>\n",
       "      <td>0.658770</td>\n",
       "      <td>0.786264</td>\n",
       "      <td>1.0</td>\n",
       "    </tr>\n",
       "    <tr>\n",
       "      <th>2008</th>\n",
       "      <td>0.681434</td>\n",
       "      <td>0.804626</td>\n",
       "      <td>0.828303</td>\n",
       "      <td>1.0</td>\n",
       "    </tr>\n",
       "    <tr>\n",
       "      <th>2009</th>\n",
       "      <td>0.707103</td>\n",
       "      <td>0.654902</td>\n",
       "      <td>0.797921</td>\n",
       "      <td>1.0</td>\n",
       "    </tr>\n",
       "    <tr>\n",
       "      <th>2010</th>\n",
       "      <td>0.710105</td>\n",
       "      <td>0.730118</td>\n",
       "      <td>0.839057</td>\n",
       "      <td>1.0</td>\n",
       "    </tr>\n",
       "    <tr>\n",
       "      <th>2011</th>\n",
       "      <td>0.691931</td>\n",
       "      <td>0.800996</td>\n",
       "      <td>0.859975</td>\n",
       "      <td>1.0</td>\n",
       "    </tr>\n",
       "  </tbody>\n",
       "</table>\n",
       "</div>"
      ],
      "text/plain": [
       "          AAPL      MSFT       XOM  SPX\n",
       "2003  0.541124  0.745174  0.661265  1.0\n",
       "2004  0.374283  0.588531  0.557742  1.0\n",
       "2005  0.467540  0.562374  0.631010  1.0\n",
       "2006  0.428267  0.406126  0.518514  1.0\n",
       "2007  0.508118  0.658770  0.786264  1.0\n",
       "2008  0.681434  0.804626  0.828303  1.0\n",
       "2009  0.707103  0.654902  0.797921  1.0\n",
       "2010  0.710105  0.730118  0.839057  1.0\n",
       "2011  0.691931  0.800996  0.859975  1.0"
      ]
     },
     "execution_count": 156,
     "metadata": {},
     "output_type": "execute_result"
    }
   ],
   "source": [
    "# 分完組後，去看每個股票跟 SPX 的相關係數\n",
    "#corrwith()函數查找沿行軸的兩個 DataFrame 對象之間的相關性\n",
    "#dataframe用 corrwith()\n",
    "spx_corr = lambda x: x.corrwith(x['SPX'])\n",
    "by_year.apply(spx_corr)"
   ]
  },
  {
   "cell_type": "code",
   "execution_count": 161,
   "id": "4bc03438",
   "metadata": {},
   "outputs": [
    {
     "data": {
      "text/plain": [
       "2003    0.480868\n",
       "2004    0.259024\n",
       "2005    0.300093\n",
       "2006    0.161735\n",
       "2007    0.417738\n",
       "2008    0.611901\n",
       "2009    0.432738\n",
       "2010    0.571946\n",
       "2011    0.581987\n",
       "dtype: float64"
      ]
     },
     "execution_count": 161,
     "metadata": {},
     "output_type": "execute_result"
    }
   ],
   "source": [
    "# 分完組後，去看 APPLE 股價跟 MSFT 股價的相關係數\n",
    "#seires 用 corr()\n",
    "by_year.apply(lambda g: g['AAPL'].corr(g['MSFT']))"
   ]
  },
  {
   "cell_type": "markdown",
   "id": "252b4818",
   "metadata": {},
   "source": [
    "---"
   ]
  },
  {
   "cell_type": "raw",
   "id": "05e6c150",
   "metadata": {},
   "source": [
    "# 如果相關性夠高，我們會想把那條迴歸線解出來，這已經偏離課程，暫不討論"
   ]
  },
  {
   "cell_type": "code",
   "execution_count": null,
   "id": "d33e68d8",
   "metadata": {},
   "outputs": [],
   "source": [
    "import statsmodels.api as sm\n",
    "\n",
    "def regress(data, yvar, xvars):\n",
    "    Y = data[yvar]\n",
    "    X = data[xvars]\n",
    "    X['intercept'] = 1.\n",
    "    result = sm.OLS(Y, X).fit()\n",
    "    return result.params"
   ]
  },
  {
   "cell_type": "code",
   "execution_count": null,
   "id": "d7358604",
   "metadata": {},
   "outputs": [],
   "source": [
    "by_year.apply(regress, 'AAPL', ['SPX'])"
   ]
  },
  {
   "cell_type": "markdown",
   "id": "d8fe3b32",
   "metadata": {},
   "source": [
    "### 樞紐關係表和交叉表"
   ]
  },
  {
   "cell_type": "code",
   "execution_count": null,
   "id": "7a3b14b1",
   "metadata": {},
   "outputs": [],
   "source": [
    "tips = pd.read_csv('./mod08/tips.csv')\n",
    "tips['tip_pct'] = tips['tip'] / tips['total_bill']\n",
    "tips[:6]"
   ]
  },
  {
   "cell_type": "code",
   "execution_count": null,
   "id": "9a22e939",
   "metadata": {},
   "outputs": [],
   "source": [
    "# 跟 .pivot() 方法類似，要給出 values、index、columns\n",
    "# pivot_table 預設的聚合型態是計算分組的平均值\n",
    "tips.pivot_table(index = ['day', 'smoker'])"
   ]
  },
  {
   "cell_type": "code",
   "execution_count": null,
   "id": "f70a1726",
   "metadata": {},
   "outputs": [],
   "source": [
    "tips.pivot_table(['tip_pct', 'size'], index = ['time', 'day'], columns = 'smoker')"
   ]
  },
  {
   "cell_type": "code",
   "execution_count": null,
   "id": "4eb2e1c9",
   "metadata": {},
   "outputs": [],
   "source": [
    "# 注意 margins 參數的效果\n",
    "tips.pivot_table(values = ['tip_pct', 'size'], index = ['time', 'day'], columns = 'smoker', margins = True)"
   ]
  },
  {
   "cell_type": "code",
   "execution_count": null,
   "id": "5d3e3ebc",
   "metadata": {},
   "outputs": [],
   "source": [
    "# 跟上面比對一下\n",
    "tips['size'].mean()"
   ]
  },
  {
   "cell_type": "code",
   "execution_count": null,
   "id": "81a277e0",
   "metadata": {},
   "outputs": [],
   "source": [
    "# 跟上上面比對一下\n",
    "tips.groupby('smoker')[['size', 'tip_pct']].mean()"
   ]
  },
  {
   "cell_type": "markdown",
   "id": "34fbb18c",
   "metadata": {},
   "source": [
    "--------------"
   ]
  },
  {
   "cell_type": "code",
   "execution_count": null,
   "id": "1a99a49e",
   "metadata": {},
   "outputs": [],
   "source": [
    "# 第一個位置參數就是 values\n",
    "tips.pivot_table('tip_pct', index = ['time', 'smoker'], \n",
    "                  columns = 'day',\n",
    "                  aggfunc= len,\n",
    "                  margins = True)"
   ]
  },
  {
   "cell_type": "code",
   "execution_count": null,
   "id": "efe6eb33",
   "metadata": {},
   "outputs": [],
   "source": [
    "# 跟上上面比對一下\n",
    "grp = tips.groupby(['time', 'smoker', 'day'])['tip_pct']\n",
    "print_groups(grp)"
   ]
  },
  {
   "cell_type": "markdown",
   "id": "1d130a86",
   "metadata": {},
   "source": [
    "---"
   ]
  },
  {
   "cell_type": "code",
   "execution_count": null,
   "id": "c8937c65",
   "metadata": {},
   "outputs": [],
   "source": [
    "tips.pivot_table('tip_pct', index = ['time', 'size', 'smoker'],\n",
    "                 columns = 'day', aggfunc = 'mean')"
   ]
  },
  {
   "cell_type": "code",
   "execution_count": null,
   "id": "d60523c0",
   "metadata": {},
   "outputs": [],
   "source": [
    "tips.pivot_table('tip_pct', index = ['time', 'size', 'smoker'],\n",
    "                 columns = 'day', aggfunc = 'mean', fill_value = 0)"
   ]
  },
  {
   "cell_type": "markdown",
   "id": "49d514b9",
   "metadata": {},
   "source": [
    "------------"
   ]
  },
  {
   "cell_type": "code",
   "execution_count": null,
   "id": "d44f6cfe",
   "metadata": {},
   "outputs": [],
   "source": [
    "from io import StringIO\n",
    "\n",
    "data = \"\"\"\\\n",
    "Sample  Nationality  Handedness\n",
    "1   USA  Right-handed\n",
    "2   Japan    Left-handed\n",
    "3   USA  Right-handed\n",
    "4   Japan    Right-handed\n",
    "5   Japan    Left-handed\n",
    "6   Japan    Right-handed\n",
    "7   USA  Right-handed\n",
    "8   USA  Left-handed\n",
    "9   Japan    Right-handed\n",
    "10  USA  Right-handed\"\"\"\n",
    "data = pd.read_table(StringIO(data), sep='\\s+')"
   ]
  },
  {
   "cell_type": "code",
   "execution_count": null,
   "id": "268e6c51",
   "metadata": {},
   "outputs": [],
   "source": [
    "data"
   ]
  },
  {
   "cell_type": "code",
   "execution_count": null,
   "id": "0db95034",
   "metadata": {},
   "outputs": [],
   "source": [
    "# 交叉表是一種樞紐分析表的特殊例子，專用來計算分組的頻率\n",
    "# pd.crosstab 是全域函式，所以參數沒辦法帶入像 'Nationality' 之類的字串\n",
    "# 只帶入 index 與 columns 參數，會幫你算每組的個數\n",
    "pd.crosstab(index = data.Nationality, columns = data.Handedness, margins = True)"
   ]
  },
  {
   "cell_type": "code",
   "execution_count": null,
   "id": "e67199e8",
   "metadata": {},
   "outputs": [],
   "source": [
    "data.pivot_table('Sample', index = 'Nationality', columns = 'Handedness', margins= True, aggfunc = 'count')"
   ]
  },
  {
   "cell_type": "code",
   "execution_count": null,
   "id": "d6456197",
   "metadata": {},
   "outputs": [],
   "source": [
    "grp = data.groupby(['Nationality', 'Handedness'])\n",
    "print_groups(grp)"
   ]
  },
  {
   "cell_type": "code",
   "execution_count": null,
   "id": "1ca3f57d",
   "metadata": {},
   "outputs": [],
   "source": [
    "grp.count()"
   ]
  },
  {
   "cell_type": "markdown",
   "id": "cdf5a765",
   "metadata": {},
   "source": [
    "-----------------"
   ]
  },
  {
   "cell_type": "code",
   "execution_count": null,
   "id": "fa63685e",
   "metadata": {},
   "outputs": [],
   "source": [
    "pd.crosstab(index = [tips.time, tips.day], columns = tips.smoker, margins = True)"
   ]
  },
  {
   "cell_type": "markdown",
   "id": "29732ca0",
   "metadata": {},
   "source": [
    "-------------"
   ]
  },
  {
   "cell_type": "raw",
   "id": "e7833176",
   "metadata": {},
   "source": [
    "# 可以用之前學過的方法把 data 放進資料框嗎 ?"
   ]
  },
  {
   "cell_type": "code",
   "execution_count": null,
   "id": "5f922da9",
   "metadata": {},
   "outputs": [],
   "source": [
    "data = \"\"\"\\\n",
    "Sample  Nationality  Handedness\n",
    "1   USA  Right-handed\n",
    "2   Japan    Left-handed\n",
    "3   USA  Right-handed\n",
    "4   Japan    Right-handed\n",
    "5   Japan    Left-handed\n",
    "6   Japan    Right-handed\n",
    "7   USA  Right-handed\n",
    "8   USA  Left-handed\n",
    "9   Japan    Right-handed\n",
    "10  USA  Right-handed\"\"\""
   ]
  },
  {
   "cell_type": "code",
   "execution_count": null,
   "id": "687db07a",
   "metadata": {},
   "outputs": [],
   "source": [
    "lst = data.split('\\n')"
   ]
  },
  {
   "cell_type": "code",
   "execution_count": null,
   "id": "f4e769a6",
   "metadata": {},
   "outputs": [],
   "source": [
    "lst"
   ]
  },
  {
   "cell_type": "code",
   "execution_count": null,
   "id": "3d3d97eb",
   "metadata": {},
   "outputs": [],
   "source": [
    "pd.Series(lst)"
   ]
  },
  {
   "cell_type": "code",
   "execution_count": null,
   "id": "42709671",
   "metadata": {},
   "outputs": [],
   "source": [
    "s = pd.Series(lst).str.split('\\s+')\n",
    "s"
   ]
  },
  {
   "cell_type": "code",
   "execution_count": null,
   "id": "edf8685b",
   "metadata": {},
   "outputs": [],
   "source": [
    "# 要先把資料框的框架建出來\n",
    "my_df = pd.DataFrame(np.zeros((len(s) - 1, 3)), columns = s[0])\n",
    "my_df"
   ]
  },
  {
   "cell_type": "code",
   "execution_count": null,
   "id": "74945159",
   "metadata": {},
   "outputs": [],
   "source": [
    "for i, val in enumerate(s[1:]):\n",
    "    my_df.iloc[i] = val"
   ]
  },
  {
   "cell_type": "code",
   "execution_count": null,
   "id": "f9a68354",
   "metadata": {},
   "outputs": [],
   "source": [
    "my_df"
   ]
  }
 ],
 "metadata": {
  "kernelspec": {
   "display_name": "Python 3",
   "language": "python",
   "name": "python3"
  },
  "language_info": {
   "codemirror_mode": {
    "name": "ipython",
    "version": 3
   },
   "file_extension": ".py",
   "mimetype": "text/x-python",
   "name": "python",
   "nbconvert_exporter": "python",
   "pygments_lexer": "ipython3",
   "version": "3.9.5"
  }
 },
 "nbformat": 4,
 "nbformat_minor": 5
}
